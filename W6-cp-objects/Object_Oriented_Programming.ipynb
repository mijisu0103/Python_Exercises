{
 "cells": [
  {
   "cell_type": "markdown",
   "metadata": {},
   "source": [
    "# Why objects"
   ]
  },
  {
   "cell_type": "code",
   "execution_count": null,
   "metadata": {},
   "outputs": [],
   "source": [
    "# run this cell to play back an audio file, type Esc-o to hide player\n",
    "from IPython.display import Audio\n",
    "Audio(\"media/oop-intro.mp3\")"
   ]
  },
  {
   "cell_type": "markdown",
   "metadata": {},
   "source": [
    "The programming paradigm we have been working with so far is called *procedural programming*. Essentially, this views a program as composed of two entities:\n",
    "* Data structures (variables, lists, etc) that hold the data\n",
    "* Functions that operate on the data\n",
    "\n",
    "This is adequate for many purposes, and indeed you will find yourself writing procedural code in Python time and again. However, sometimes we would like the data to be more closely tied to the functions that handle them. For instance, we might want image data to know how to save itself to the disk in a JPG format, while music data should write itself in the MP3 format. We can, it's true, write something like\n",
    "```\n",
    "picture= # image data\n",
    "song= # music data\n",
    "writeJPG(picture, \"mypicture\") \n",
    "writeMP3(song, \"mysong\")\n",
    "```\n",
    "but we'd rather write\n",
    "```\n",
    "picture.write(\"mypicture\")\n",
    "song.write(\"mysong\")\n",
    "```\n",
    "so we don't have to remember two function names. In fact, we are almost sure that one day we will write:\n",
    "```\n",
    "multimedia_data= # some image\n",
    "writeMP3(multimedia_data, \"somefile\") # Oops! .mp3 image?\n",
    "```\n",
    "so that we'd rather do:\n",
    "```\n",
    "multimedia_data= # some image\n",
    "multimedia_data.write(\"somefile\")\n",
    "```\n",
    "and trust it will do the right thing.\n",
    "\n",
    "Indeed, the best would be this:\n",
    "```\n",
    "media_collection=[a_picture, a_song, a_movie]\n",
    "for mm in media_collection:\n",
    "    mm.write(\"somefile\") # you know what's the right format for you, don't you?\n",
    "```\n",
    "Objects allow us to do just that."
   ]
  },
  {
   "cell_type": "markdown",
   "metadata": {},
   "source": [
    "# Classes and Instances"
   ]
  },
  {
   "cell_type": "markdown",
   "metadata": {},
   "source": [
    "A **class** is, so to speak, the template of an object: it specifies the operations that can be done on it. The syntax for defining a class in Python is straightforward:\n",
    "```\n",
    "class NAME:\n",
    "    BODY\n",
    "```\n",
    "where *BODY* contains the definition of functions, called *methods*, that operate on the data of the class. \n",
    "\n",
    "Here is a simple class that models a square:"
   ]
  },
  {
   "cell_type": "code",
   "execution_count": null,
   "metadata": {},
   "outputs": [],
   "source": [
    "class Square:\n",
    "    def area(self): # a method\n",
    "        return self.side*self.side\n",
    "    def perimeter(self): # another method\n",
    "        return 4*self.side"
   ]
  },
  {
   "cell_type": "markdown",
   "metadata": {},
   "source": [
    "The class definition itself does not do anything. We need to create an **instance** of the object, that is a specific square. The ```self``` parameter tells Python to which particular instance of ```Square``` that ```side``` belongs: this is where the link between the generic template of the class and the individual instance is made.  "
   ]
  },
  {
   "cell_type": "code",
   "execution_count": null,
   "metadata": {},
   "outputs": [],
   "source": [
    "sq1=Square() # an instance (a square)\n",
    "sq2=Square() # another instance (another square)\n",
    "sq1.side=2 # self.side is called an attribute\n",
    "sq2.side=3\n",
    "print(sq1.area())\n",
    "print(sq2.area())\n",
    "print(sq1.perimeter())\n",
    "# the alternative syntax below illustrates the meaning of the \n",
    "# self parameter, which informs the method of the specific instance\n",
    "# on which it is supposed to act\n",
    "print(Square.perimeter(sq2))"
   ]
  },
  {
   "cell_type": "code",
   "execution_count": null,
   "metadata": {},
   "outputs": [],
   "source": [
    "# run this cell to show a video, use slider to resize it, type Esc-o to hide it\n",
    "from IPython.display import Video, clear_output; from ipywidgets import interactive, IntSlider\n",
    "def _play(resize): display(Video(filename=\"media/oop-classes.webm\",data=\"\",width=resize))\n",
    "interactive(_play, resize=IntSlider(min=150, max=900, step=50, value=600, continuous_update=False, readout=False))"
   ]
  },
  {
   "cell_type": "markdown",
   "metadata": {},
   "source": [
    "This is convenient, but still somewhat unrefined. For instance, we can do the following:"
   ]
  },
  {
   "cell_type": "code",
   "execution_count": null,
   "metadata": {},
   "outputs": [],
   "source": [
    "sq3=Square()\n",
    "print(sq3.area()) # Oops! forgot to set side"
   ]
  },
  {
   "cell_type": "markdown",
   "metadata": {},
   "source": [
    "To avoid this kind of errors, we need a special type of function to initialize all the attributes of our object. This is called a Constructor."
   ]
  },
  {
   "cell_type": "markdown",
   "metadata": {},
   "source": [
    "### Constructors"
   ]
  },
  {
   "cell_type": "markdown",
   "metadata": {},
   "source": [
    "A **constructor** is special methods that is called when an instance is created and initialises all the variables needed by the instance. A constructor in Python is just a special method called ```__init__``` that can take any parameters besides ```self``` but does not return any value: \n",
    "```\n",
    "def __init__(self, PARAMS):\n",
    "   BODY\n",
    "```\n",
    "Once again, you do not call this method directly, but Python calls it for you when the instance is created.\n",
    "\n",
    "We can rewrite our *Square* class as follows:"
   ]
  },
  {
   "cell_type": "code",
   "execution_count": null,
   "metadata": {},
   "outputs": [],
   "source": [
    "class Square:\n",
    "    def __init__(self, s):\n",
    "        self.side=s\n",
    "    def area(self): # a method\n",
    "        return self.side*self.side\n",
    "    def perimeter(self):\n",
    "        return 4*self.side\n",
    "    \n",
    "sq1=Square(2)\n",
    "sq2=Square(5)\n",
    "print(sq1.area())\n",
    "print(sq2.perimeter())\n",
    "sq3=Square() # no longer allowed (good!)"
   ]
  },
  {
   "cell_type": "markdown",
   "metadata": {},
   "source": [
    "There are several things we can learn from this snippet of code. First of all, the problem of having a ```Square``` with an undefined ```side``` is solved: we have to provide that when we create the ```Square```, the interpreter won't let us do otherwise (unless we provide a default value).\n",
    "\n",
    "Second, note the difference between ```self.side``` and ```s```. The parameter ```s``` is local to the constructor (like all function parameters), and it ceases to exist when the constructor returns. Attribute ```self.side```, instead, is attached to the instance and lives on with the particular instance of ```Square```."
   ]
  },
  {
   "cell_type": "code",
   "execution_count": null,
   "metadata": {},
   "outputs": [],
   "source": [
    "# run this cell to show a video, use slider to resize it, type Esc-o to hide it\n",
    "from IPython.display import Video, clear_output; from ipywidgets import interactive, IntSlider\n",
    "def _play(resize): display(Video(filename=\"media/oop-constructor.webm\",data=\"\",width=resize))\n",
    "interactive(_play, resize=IntSlider(min=150, max=900, step=50, value=600, continuous_update=False, readout=False))"
   ]
  },
  {
   "cell_type": "markdown",
   "metadata": {},
   "source": [
    "### An example"
   ]
  },
  {
   "cell_type": "markdown",
   "metadata": {},
   "source": [
    "Here is an example:"
   ]
  },
  {
   "cell_type": "code",
   "execution_count": null,
   "metadata": {},
   "outputs": [],
   "source": [
    "class Student:\n",
    "    university=\"Queen Mary\" # class variable - see below\n",
    "    \n",
    "    def __init__(self, name, surname): # constructor\n",
    "        self.name=name # self.name is an attribute, name is the parameter\n",
    "        self.surname=surname \n",
    "        self._printaccount=0.0\n",
    "        \n",
    "    def buyPrintCredit(self, amount): # method with a parameter\n",
    "        self._printaccount+=amount\n",
    "        \n",
    "    def canPrint(self): # method that returns a value.\n",
    "        return self._printaccount>0"
   ]
  },
  {
   "cell_type": "markdown",
   "metadata": {},
   "source": [
    "So we can do the following:"
   ]
  },
  {
   "cell_type": "code",
   "execution_count": null,
   "metadata": {},
   "outputs": [],
   "source": [
    "a=Student(\"Monty\",\"Python\")\n",
    "b=Student(\"Mary\", \"Poppins\")"
   ]
  },
  {
   "cell_type": "code",
   "execution_count": null,
   "metadata": {},
   "outputs": [],
   "source": [
    "print(a.canPrint())"
   ]
  },
  {
   "cell_type": "code",
   "execution_count": null,
   "metadata": {},
   "outputs": [],
   "source": [
    "print(a.name)\n",
    "a.buyPrintCredit(10.0)\n",
    "print(a.canPrint())"
   ]
  },
  {
   "cell_type": "code",
   "execution_count": null,
   "metadata": {},
   "outputs": [],
   "source": [
    "print(b.name)\n",
    "print(b.canPrint()) # no she can't"
   ]
  },
  {
   "cell_type": "markdown",
   "metadata": {},
   "source": [
    "Notice that students have their individual names and print accounts. Something like this makes no sense:"
   ]
  },
  {
   "cell_type": "code",
   "execution_count": null,
   "metadata": {},
   "outputs": [],
   "source": [
    "print(Student.name) # which student?"
   ]
  },
  {
   "cell_type": "markdown",
   "metadata": {},
   "source": [
    "An exception to this is the \"class variable\" *university* declared together with the class. This is shared among all students, so that I can do this:"
   ]
  },
  {
   "cell_type": "code",
   "execution_count": null,
   "metadata": {},
   "outputs": [],
   "source": [
    "print(Student.university) # this is fine\n",
    "print(a.university) # this is also OK, but confusing"
   ]
  },
  {
   "cell_type": "markdown",
   "metadata": {},
   "source": [
    "The second line hides the fact that this variable is shared among all objects, so that assigning to it affects all instances:"
   ]
  },
  {
   "cell_type": "code",
   "execution_count": null,
   "metadata": {},
   "outputs": [],
   "source": [
    "Student.university=\"Queen Mary UoL\" # assign through the class name or you will create an attribute instead\n",
    "print(a.university)\n",
    "print(b.university)"
   ]
  },
  {
   "cell_type": "markdown",
   "metadata": {},
   "source": [
    "Once again, notice that ```Student``` instances have their own individual ```name``` attribute, so compare with this:"
   ]
  },
  {
   "cell_type": "code",
   "execution_count": null,
   "metadata": {},
   "outputs": [],
   "source": [
    "print(a.name)\n",
    "print(b.name)\n",
    "b.name=\"Jane\"\n",
    "print(a.name)\n",
    "print(b.name)"
   ]
  },
  {
   "cell_type": "markdown",
   "metadata": {},
   "source": [
    "Most of the times what you need is an attribute. Class variables are rather rare and have specific uses, so as a first approximation it's safe to ignore them. You will generally find class variables used, for instance, as a class-specific type of constant in libraries."
   ]
  },
  {
   "cell_type": "code",
   "execution_count": null,
   "metadata": {},
   "outputs": [],
   "source": [
    "# run this cell to show a video, use slider to resize it, type Esc-o to hide it\n",
    "from IPython.display import Video, clear_output; from ipywidgets import interactive, IntSlider\n",
    "def _play(resize): display(Video(filename=\"media/oop-encapsulation.webm\",data=\"\",width=resize))\n",
    "interactive(_play, resize=IntSlider(min=150, max=900, step=50, value=600, continuous_update=False, readout=False))"
   ]
  },
  {
   "cell_type": "markdown",
   "metadata": {},
   "source": [
    "# Inheritance"
   ]
  },
  {
   "cell_type": "markdown",
   "metadata": {},
   "source": [
    "A key features of Objects Oriented languages is **inheritance**. Inheritance is the key feature of these languages that facilitates code reuse; as such most libraries you will sooner or later use rely heavily on it. In essence you can think of objects as forming a taxonomy, the root of which is (you guessed it) the type ```object```. This type is rather boring, in fact it is essentially a placeholder  "
   ]
  },
  {
   "cell_type": "code",
   "execution_count": null,
   "metadata": {},
   "outputs": [],
   "source": [
    "o=object() # the father of all objects\n",
    "print(o) # a pretty boring chap"
   ]
  },
  {
   "cell_type": "markdown",
   "metadata": {},
   "source": [
    "Going down the branches of the \"taxonomy\", every object specialises its parent in the sense that it adds more features, or modifies existing behaviour. Any class you define is automatically a \"child\" (a *subclass*) of ```object```, so that an instance of any class will be an instance of ```object```, in the same way that Barker (an instance of *Canis familiaris*) is also an instance of a Mammal and of an Animal:"
   ]
  },
  {
   "cell_type": "code",
   "execution_count": null,
   "metadata": {},
   "outputs": [],
   "source": [
    "print(isinstance(a, Student))\n",
    "print(isinstance(a, object))"
   ]
  },
  {
   "cell_type": "markdown",
   "metadata": {},
   "source": [
    "However, what makes this interesting is the possibility of inheriting from more meaningful classes than ```object```. For instance, let us consider different types of students in a university:"
   ]
  },
  {
   "cell_type": "code",
   "execution_count": null,
   "metadata": {},
   "outputs": [],
   "source": [
    "class BScStudent(Student): # inherit from Student\n",
    "    \"\"\" A type of student who may like beer \"\"\"\n",
    "    def __init__(self, name, surname, likesbeer=True): # constructor\n",
    "        super().__init__(name, surname) # call constructor of the parent class (aka superclass)\n",
    "        self.likesbeer=likesbeer\n",
    "\n",
    "    def havePint(self):\n",
    "        if self.likesbeer:\n",
    "            print(\"Cheers mate!\")\n",
    "        else:\n",
    "            print(\"No thanks\")\n",
    "            \n",
    "\n",
    "class PhDStudent(Student): # inherit from Student\n",
    "    \"\"\" A type of student who must publish or perish \"\"\"\n",
    "    def __init__(self, name, surname, haspublished=False):\n",
    "        super().__init__(name, surname) # call constructor of the superclass\n",
    "        self.haspublished=haspublished\n",
    "        \n",
    "    def publish(self):\n",
    "        self.haspublished=True\n",
    "        \n",
    "    def checkStatus(self):\n",
    "        if self.haspublished:\n",
    "            print(\"Has published\")\n",
    "        else:\n",
    "            print(\"Has perished\")\n"
   ]
  },
  {
   "cell_type": "markdown",
   "metadata": {},
   "source": [
    "Of course you would expect these to work:"
   ]
  },
  {
   "cell_type": "code",
   "execution_count": null,
   "metadata": {},
   "outputs": [],
   "source": [
    "fresher=BScStudent(\"Ethan\",\"Ole\", True)\n",
    "nerd=PhDStudent(\"Lino\", \"Type\", False)\n",
    "# these should obviously work\n",
    "fresher.havePint()\n",
    "nerd.publish()\n",
    "nerd.checkStatus()\n"
   ]
  },
  {
   "cell_type": "markdown",
   "metadata": {},
   "source": [
    "But the neat thing is that we can also do this:"
   ]
  },
  {
   "cell_type": "code",
   "execution_count": null,
   "metadata": {},
   "outputs": [],
   "source": [
    "# Inherited from class Student\n",
    "print(fresher.name) # inherited attribute\n",
    "nerd.buyPrintCredit(10) # inherited method\n",
    "print(nerd.canPrint())\n",
    "# Class variables are inherited too:\n",
    "print(\"Fresher's uni: \", BScStudent.university) \n",
    "print(\"Nerd's uni: \", nerd.university)"
   ]
  },
  {
   "cell_type": "markdown",
   "metadata": {},
   "source": [
    "These methods are inherited from the parent class ```Student```. So a ```BScStudent``` is all that a ```Student``` is, plus something - and the same applies to ```PhDStudent```. In fact, both ```fresher``` and ```nerd``` are instances of ```Student```:"
   ]
  },
  {
   "cell_type": "code",
   "execution_count": null,
   "metadata": {},
   "outputs": [],
   "source": [
    "print(isinstance(fresher, Student))\n",
    "print(isinstance(nerd, Student))"
   ]
  },
  {
   "cell_type": "markdown",
   "metadata": {},
   "source": [
    "Note that the converse is not true (the parent is not an instance of the child):"
   ]
  },
  {
   "cell_type": "code",
   "execution_count": null,
   "metadata": {},
   "outputs": [],
   "source": [
    "print(isinstance(a, Student))\n",
    "print(isinstance(a, BScStudent)) # trouble ahead\n",
    "a.havePint() # a is an instance of Student, not of BScStudent"
   ]
  },
  {
   "cell_type": "code",
   "execution_count": null,
   "metadata": {},
   "outputs": [],
   "source": [
    "# run this cell to show a video, use slider to resize it, type Esc-o to hide it\n",
    "from IPython.display import Video, clear_output; from ipywidgets import interactive, IntSlider\n",
    "def _play(resize): display(Video(filename=\"media/oop-inheritance.webm\",data=\"\",width=resize))\n",
    "interactive(_play, resize=IntSlider(min=150, max=900, step=50, value=600, continuous_update=False, readout=False))"
   ]
  },
  {
   "cell_type": "markdown",
   "metadata": {},
   "source": [
    "# Polymorphism"
   ]
  },
  {
   "cell_type": "markdown",
   "metadata": {},
   "source": [
    "In the previous section we have seen how an object\n",
    "* inherits methods, attributes and class variables from the parent class\n",
    "* can add its own methods, attributes and class variables as required to perform more operations\n",
    "\n",
    "However, a child class can also perform one of the functions the parent can do in a different way. This is achieved by redefining (*overriding*) methods of the parent class in the child class. This results in object hierarchies with the\n",
    "following properties:\n",
    "* each is derived from a common class\n",
    "* each can perform a certain operation\n",
    "* each one does it its own way, without the programmer having to worry about it.\n",
    "\n",
    "This is called **polymorphism**.\n",
    "\n",
    "As an example, we will define a \n",
    "```\n",
    "__str__()\n",
    "```method for ```Student``` and each of its derived classes. This method is used to return a human-readable representation of an object as a string; this is the string that is printed when one calls ```print``` on the object. The default version of this method inherited from ```object``` is not very informative:"
   ]
  },
  {
   "cell_type": "code",
   "execution_count": null,
   "metadata": {},
   "outputs": [],
   "source": [
    "print(fresher)"
   ]
  },
  {
   "cell_type": "markdown",
   "metadata": {},
   "source": [
    "the above is actually equivalent to:"
   ]
  },
  {
   "cell_type": "code",
   "execution_count": null,
   "metadata": {},
   "outputs": [],
   "source": [
    "stringrepresentation=fresher.__str__()\n",
    "print (stringrepresentation)"
   ]
  },
  {
   "cell_type": "markdown",
   "metadata": {},
   "source": [
    "so ```print``` does call ```__str__()``` for you."
   ]
  },
  {
   "cell_type": "markdown",
   "metadata": {},
   "source": [
    "In the following example we will override ```__str__()``` for Student and its children with a more meaningful version. Since this involves a bit of code, the class definitions are written in the module *students.py*:"
   ]
  },
  {
   "cell_type": "code",
   "execution_count": null,
   "metadata": {},
   "outputs": [],
   "source": [
    "# Creates a clickable link you can use to view the module file in an editor\n",
    "from IPython.display import FileLink\n",
    "FileLink('students.py')"
   ]
  },
  {
   "cell_type": "markdown",
   "metadata": {},
   "source": [
    "In the cell below, we import the student module, create an instance of each class and print it, which will show the output of the ```___str___()``` module we defined for each of them."
   ]
  },
  {
   "cell_type": "code",
   "execution_count": null,
   "metadata": {},
   "outputs": [],
   "source": [
    "import students as st\n",
    "\n",
    "# allocate some student\n",
    "standard=st.Student(\"John\", \"Smith\")\n",
    "fresher=st.BScStudent(\"Ethan\",\"Ole\", True)\n",
    "nerd=st.PhDStudent(\"Lino\", \"Type\", False)\n",
    "\n",
    "# each of these calls a different function\n",
    "print(standard)\n",
    "print(\"-----------------\")\n",
    "print(fresher)\n",
    "print(\"-----------------\")\n",
    "print(nerd)"
   ]
  },
  {
   "cell_type": "markdown",
   "metadata": {},
   "source": [
    "In fact, there's no need to refer to the original variable names - each instance knows its type and will do the right thing regardless - and this is exactly what we said in the \"Why Objects\" section at the top!"
   ]
  },
  {
   "cell_type": "code",
   "execution_count": null,
   "metadata": {},
   "outputs": [],
   "source": [
    "allhands=[standard, fresher, nerd]\n",
    "for chap in allhands:\n",
    "    # print always calls chap.__str__(), but this does something different each time!\n",
    "    print(chap)\n",
    "    print(\"-----------------\")"
   ]
  },
  {
   "cell_type": "code",
   "execution_count": null,
   "metadata": {},
   "outputs": [],
   "source": [
    "# run this cell to show a video, use slider to resize it, type Esc-o to hide it\n",
    "from IPython.display import Video, clear_output; from ipywidgets import interactive, IntSlider\n",
    "def _play(resize): display(Video(filename=\"media/oop-polymorphism.webm\",data=\"\",width=resize))\n",
    "interactive(_play, resize=IntSlider(min=150, max=900, step=50, value=600, continuous_update=False, readout=False))"
   ]
  },
  {
   "cell_type": "markdown",
   "metadata": {},
   "source": [
    "###  Further reading\n",
    "\n",
    "Other interesting examples of inheritance, polymorphism and the use of the ```super``` keyword can be found [here](https://www.python-course.eu/python3_inheritance.php) and [here](https://www.digitalocean.com/community/tutorials/understanding-class-inheritance-in-python-3)."
   ]
  },
  {
   "cell_type": "markdown",
   "metadata": {},
   "source": [
    "**(C) 2014,2020 Fabrizio Smeraldi** ([f.smeraldi@qmul.ac.uk](mailto:f.smeraldi@qmul.ac.uk) - [web](http://www.eecs.qmul.ac.uk/~fabri/)), all rights reserved. In: \"Computer Programming\", School of Electronic Engineering and Computer Science, Queen Mary University of London."
   ]
  }
 ],
 "metadata": {
  "kernelspec": {
   "display_name": "Python 3",
   "language": "python",
   "name": "python3"
  },
  "language_info": {
   "codemirror_mode": {
    "name": "ipython",
    "version": 3
   },
   "file_extension": ".py",
   "mimetype": "text/x-python",
   "name": "python",
   "nbconvert_exporter": "python",
   "pygments_lexer": "ipython3",
   "version": "3.6.9"
  }
 },
 "nbformat": 4,
 "nbformat_minor": 1
}
