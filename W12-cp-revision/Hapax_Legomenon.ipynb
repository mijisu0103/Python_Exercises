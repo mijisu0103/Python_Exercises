{
 "cells": [
  {
   "cell_type": "markdown",
   "metadata": {},
   "source": [
    "# Hapax legomenon exercise (T. LAger)\n",
    "\n",
    "A hapax legomenon (often abbreviated to hapax) is a word which occurs only once in either the written record of a language the works of an author, or in a single text.Define a function that given the file name of a text will return all its hapaxes. Make sure your program ignores capitalization.\n",
    "\n",
    "## Pseudocode\n",
    "\n",
    "* open file\n",
    "* for each line in file:\n",
    "    * split line into words (punctuation?)\n",
    "    * tally words in line\n",
    "* print list of hapaxes\n",
    "\n",
    "Global variables:\n",
    "* repeatedwords=[]\n",
    "* hapax=[]\n",
    "\n",
    "\n",
    "Function tally:\n",
    "* word in repeatedwords? skip it\n",
    "* word in hapax?\n",
    "    * no - insert it \n",
    "    * yes - remove it and insert in repeatedwords\n",
    "    \n"
   ]
  },
  {
   "cell_type": "code",
   "execution_count": 25,
   "metadata": {},
   "outputs": [],
   "source": [
    "import re\n",
    "\n",
    "def tokenize(line): \n",
    "    \"\"\" split line into words \"\"\"\n",
    "    line=re.sub(r\"\\W\", \" \", line)\n",
    "    return [w.lower() for w in line.split()]\n",
    "    "
   ]
  },
  {
   "cell_type": "code",
   "execution_count": 26,
   "metadata": {},
   "outputs": [],
   "source": [
    "\n",
    "def tally(wordlist):\n",
    "    for w in wordlist:\n",
    "        if w in repeatedwords:\n",
    "            continue\n",
    "        elif w in hapax:\n",
    "            hapax.remove(w)\n",
    "            repeatedwords.append(w)\n",
    "        else:\n",
    "            hapax.append(w)"
   ]
  },
  {
   "cell_type": "code",
   "execution_count": 27,
   "metadata": {},
   "outputs": [
    {
     "name": "stdout",
     "output_type": "stream",
     "text": [
      "['dramatis', 'personae', 'statesman', 'later', 'augustus', 'emperor', 'member', 'triumvirate', 'leader', 'instigator', 'senator', 'supportor', 'teacher', 'rhetoric', 'mechanical', 'laboring', 'profession', 'carpenter', 'apron', 'apparel', 'fine', 'workman', 'conscience', 'mender', 'soles', 'naughty', 'cobble', 'meddle', 'tradesman', 'surgeon', 'recover', 'trod', 'neat', 'handiwork', 'shop', 'tributaries', 'captive', 'bonds', 'wheels', 'blocks', 'senseless', 'climb', 'battlements', 'towers', 'chimney', 'tops', 'sat', 'livelong', 'expectation', 'universal', 'trembled', 'replication', 'sounds', 'concave', 'attire', 'cull', 'strew', 'flowers', 'intermit', 'plague', 'needs', 'assemble', 'channel', 'lowest', 'basest', 'metal', 'vanish', 'tied', 'guiltiness', 'disrobe', 'deck', 'trophies', 'vulgar', 'feathers', 'pitch', 'soar', 'view', 'servile', 'fearfulness', 'ceases', 'elders', 'touched', 'chase', 'sterile', 'perform', 'shriller', 'dreamer', 'gamesome', 'lack', 'hinder', 'desires', 'gentleness', 'wont', 'stubborn', 'veil', 'merely', 'vexed', 'passions', 'difference', 'conceptions', 'soil', 'behaviors', 'grieved', 'neglect', 'forgets', 'mistook', 'whereof', 'value', 'cogitations', 'lamented', 'mirrors', 'hidden', 'shadow', 'except', 'prepared', 'glass', 'modestly', 'laugher', 'stale', 'oaths', 'protester', 'hug', 'scandal', 'profess', 'banqueting', 'rout', 'shouting', 'impart', 'indifferently', 'outward', 'subject', 'story', 'single', 'self', 'lief', 'fed', 'winter', 'gusty', 'troubled', 'chafing', 'darest', 'accoutred', 'plunged', 'torrent', 'roar', 'buffet', 'sinews', 'throwing', 'stemming', 'controversy', 'arrive', 'proposed', 'aeneas', 'ancestor', 'flames', 'troy', 'shoulder', 'anchises', 'waves', 'tired', 'wretched', 'carelessly', 'fever', 'spain', 'luster', 'speeches', 'books', 'girl', 'amaze', 'majestic', 'applauses', 'bestride', 'colossus', 'petty', 'legs', 'peep', 'dishonorable', 'underlings', 'sounded', 'weigh', 'conjure', 'meat', 'feed', 'shamed', 'famed', 'wide', 'encompass', 'brook', 'eternal', 'easily', 'recount', 'chew', 'villager', 'repute', 'games', 'returning', 'sleeve', 'sour', 'glow', 'chidden', 'cheek', 'ferret', 'fat', 'sleek', 'headed', 'hungry', 'fatter', 'avoid', 'spare', 'observer', 'hears', 'seldom', 'scorn', 'whiles', 'always', 'deaf', 'pull', 'cloak', 'ashouting', 'gentler', 'putting', 'neighbors', 'hang', 'mere', 'offer', 'coronets', 'fain', 'loath', 'rabblement', 'hooted', 'clapped', 'chopped', 'threw', 'sweaty', 'nightcaps', 'uttered', 'deal', 'stinking', 'breath', 'swounded', 'opening', 'receiving', 'caesars', 'foamed', 'speechless', 'tagrag', 'clap', 'hiss', 'pleased', 'displeased', 'players', 'perceived', 'herd', 'plucked', 'doublet', 'throat', 'occupation', 'rogues', 'desired', 'worships', 'infirmity', 'four', 'wenches', 'forgave', 'stabbed', 'understood', 'smiled', 'shook', 'pulling', 'scarfs', 'sup', 'promised', 'dine', 'dinner', 'eating', 'expect', 'execution', 'however', 'puts', 'tardy', 'rudeness', 'sauce', 'stomach', 'appetite', 'wait', 'wrought', 'likes', 'firm', 'seduced', 'writings', 'obscurely', 'glanced', 'opposite', 'breathless', 'shakes', 'unfirm', 'tempests', 'scolding', 'winds', 'knotty', 'oaks', 'ocean', 'foam', 'threatening', 'tempest', 'dropping', 'incenses', 'wonderful', 'slave', 'flame', 'torches', 'sensible', 'unscorch', 'met', 'glaz', 'surly', 'annoying', 'ghastly', 'transformed', 'bird', 'noonday', 'howling', 'shrieking', 'conjointly', 'natural', 'portentous', 'climate', 'clean', 'disturbed', 'sky', 'pleasing', 'menace', 'submitting', 'perilous', 'bared', 'thunderstone', 'blue', 'flash', 'tokens', 'heralds', 'astonish', 'dull', 'want', 'gaze', 'fires', 'gliding', 'birds', 'calculate', 'ordinance', 'natures', 'preformed', 'faculties', 'infused', 'warning', 'thunders', 'lightens', 'roars', 'mightier', 'prodigious', 'eruptions', 'thews', 'womanish', 'establish', 'land', 'defeat', 'stony', 'tower', 'beaten', 'brass', 'airless', 'dungeon', 'links', 'iron', 'retentive', 'worldly', 'bars', 'lacks', 'dismiss', 'cancel', 'captivity', 'wolf', 'sheep', 'hinds', 'straws', 'rubbish', 'offal', 'illuminate', 'indifferent', 'fleering', 'tale', 'factious', 'farthest', 'bargain', 'minded', 'undergo', 'consequence', 'complexion', 'element', 'gait', 'attempts', 'win', 'party', 'praetor', 'wax', 'papers', 'entire', 'encounter', 'yields', 'richest', 'alchemy', 'conceited', 'midnight', 'orchard', 'progress', 'guess', 'soundly', 'study', 'lighted', 'bright', 'adder', 'craves', 'wary', 'greatness', 'disjoins', 'remorse', 'affections', 'lowliness', 'climber', 'attains', 'upmost', 'scorning', 'degrees', 'ascend', 'quarrel', 'augmented', 'extremities', 'serpent', 'egg', 'hatch', 'mischievous', 'shell', 'burneth', 'searching', 'calendar', 'exhalations', 'whizzing', 'instigations', 'dropp', 'tarquin', 'entreated', 'receivest', 'petition', 'wasted', 'fifteen', 'gate', 'somebody', 'whet', 'acting', 'interim', 'phantasma', 'hideous', 'genius', 'mortal', 'kingdom', 'suffers', 'insurrection', 'hats', 'cloaks', 'faction', 'shamest', 'cavern', 'dark', 'mask', 'visage', 'affability', 'path', 'native', 'semblance', 'erebus', 'dim', 'watchful', 'cares', 'interpose', 'betwixt', 'yongrey', 'lines', 'arises', 'south', 'weighing', 'youthful', 'season', 'year', 'months', 'north', 'presents', 'resolution', 'motives', 'sighted', 'range', 'lottery', 'kindle', 'melting', 'palter', 'engaged', 'cautelous', 'carrions', 'suffering', 'causes', 'stain', 'insuppressive', 'performance', 'nobly', 'guilty', 'bastardy', 'smallest', 'particle', 'silver', 'hairs', 'purchase', 'buy', 'voices', 'youths', 'whit', 'gravity', 'outlive', 'shrewd', 'contriver', 'improve', 'annoy', 'wrath', 'afterwards', 'limb', 'sacrificers', 'dismember', 'boldly', 'wrathfully', 'carve', 'dish', 'hew', 'carcass', 'subtle', 'chide', 'appearing', 'purgers', 'murderers', 'ingrated', 'sports', 'company', 'strikes', 'count', 'stricken', 'doubtful', 'superstitious', 'main', 'apparent', 'unaccustom', 'persuasion', 'ersway', 'unicorns', 'betray', 'trees', 'glasses', 'elephants', 'holes', 'toils', 'hates', 'flattered', 'eighth', 'uttermost', 'fail', 'rated', 'disperse', 'merrily', 'actors', 'untired', 'formal', 'enjoy', 'honey', 'dew', 'figures', 'fantasies', 'busy', 'brains', 'commit', 'ungently', 'stole', 'yesternight', 'supper', 'suddenly', 'arose', 'musing', 'sighing', 'across', 'stared', 'ungentle', 'scratch', 'impatiently', 'stamp', 'insisted', 'waiter', 'strengthen', 'enkindled', 'hoping', 'sometime', 'eat', 'shape', 'acquainted', 'embrace', 'physical', 'humors', 'dank', 'wholesome', 'contagion', 'rheumy', 'unpurged', 'add', 'charm', 'commended', 'beauty', 'vows', 'vow', 'resort', 'six', 'darkness', 'marriage', 'excepted', 'appertain', 'limitation', 'meals', 'sometimes', 'suburbs', 'harlot', 'ruddy', 'reputed', 'daughter', 'stronger', 'sex', 'father', 'husbanded', 'counsels', 'disclose', 'giving', 'voluntary', 'thigh', 'husband', 'partake', 'engagements', 'charactery', 'spake', 'chose', 'kerchief', 'healthful', 'discard', 'derived', 'loins', 'exorcist', 'conjured', 'mortified', 'strive', 'also', 'whom', 'fired', 'nightgown', 'murther', 'sacrifice', 'opinions', 'threaten', 'vanished', 'fright', 'recounts', 'horrid', 'lioness', 'whelped', 'yawn', 'yielded', 'warriors', 'ranks', 'squadrons', 'drizzled', 'hurtled', 'neigh', 'shriek', 'squeal', 'beyond', 'avoided', 'purposed', 'predictions', 'beggars', 'comets', 'blaze', 'deaths', 'wonders', 'seems', 'plucking', 'offering', 'cowardice', 'litter', 'consumed', 'confidence', 'keeps', 'greeting', 'falser', 'afeard', 'greybeards', 'satisfy', 'satisfaction', 'stays', 'fountain', 'spouts', 'pure', 'apply', 'warnings', 'portents', 'imminent', 'begg', 'interpreted', 'vision', 'spouting', 'pipes', 'bathed', 'signifies', 'reviving', 'tinctures', 'stains', 'relics', 'cognizance', 'signified', 'expounded', 'concluded', 'someone', 'afraid', 'proceeding', 'bids', 'foolish', 'ashamed', 'robe', 'stirr', 'ague', 'eight', 'pains', 'revels', 'notwithstanding', 'waited', 'straightway', 'yearns', 'trust', 'wronged', 'beest', 'security', 'laments', 'emulation', 'mayest', 'contrive', 'errand', 'mountain', 'counsel', 'return', 'bustling', 'rumor', 'fray', 'sooth', 'ninth', 'befriend', 'praetors', 'void', 'faint', 'sitting', 'schedule', 'leisure', 'nearer', 'ourself', 'delay', 'instantly', 'petitions', 'advances', 'discovered', 'address', 'rears', 'puissant', 'throws', 'kneels', 'couchings', 'lowly', 'courtesies', 'preordinance', 'law', 'fond', 'rebel', 'thaw', 'melteth', 'crooked', 'court', 'sies', 'spaniel', 'fawning', 'banished', 'sweetly', 'repealing', 'flattery', 'desiring', 'immediate', 'repeal', 'prayers', 'northern', 'star', 'fix', 'resting', 'firmament', 'skies', 'painted', 'unnumber', 'shine', 'furnish', 'flesh', 'apprehensive', 'unassailable', 'unshaked', 'lift', 'bootless', 'et', 'tu', 'brute', 'pulpits', 'affrighted', 'debt', 'paid', 'confounded', 'standing', 'cheer', 'person', 'doers', 'amazed', 'wives', 'doomsday', 'drawing', 'abridged', 'elbows', 'besmear', 'waving', 'weapons', 'wash', 'ages', 'lofty', 'acted', 'states', 'unborn', 'accents', 'sport', 'basis', 'worthier', 'dust', 'knot', 'boldest', 'prostrate', 'loving', 'safely', 'fortunes', 'hazards', 'untrod', 'untouch', 'misgiving', 'falls', 'shrewdly', 'conquests', 'triumphs', 'spoils', 'shrunk', 'measure', 'intend', 'purpled', 'reek', 'smoke', 'fulfill', 'thousand', 'choice', 'pitiful', 'drives', 'points', 'malice', 'brothers', 'disposing', 'dignities', 'appeased', 'multitude', 'least', 'slippery', 'ways', 'conceit', 'grieve', 'making', 'shaking', 'foes', 'presence', 'terms', 'friendship', 'hunters', 'crimson', 'lethe', 'forest', 'deer', 'modesty', 'praising', 'compact', 'depend', 'looking', 'savage', 'produce', 'becomes', 'protest', 'lawful', 'devise', 'meek', 'ruins', 'costly', 'prophesy', 'ruby', 'domestic', 'fury', 'cumber', 'custom', 'ranging', 'ate', 'confines', 'monarch', 'havoc', 'slip', 'dogs', 'foul', 'smell', 'carrion', 'serve', 'big', 'catching', 'beads', 'began', 'water', 'leagues', 'post', 'safety', 'borne', 'oration', 'discourse', 'forum', 'numbers', 'compare', 'ascended', 'silent', 'censure', 'senses', 'assembly', 'rose', 'freemen', 'rude', 'reply', 'enrolled', 'extenuated', 'offenses', 'suffered', 'mourned', 'commonwealth', 'clamors', 'allow', 'finds', 'twere', 'blest', 'praise', 'lives', 'interred', 'grievous', 'grievously', 'faithful', 'captives', 'ransoms', 'coffers', 'wept', 'sterner', 'stuff', 'presented', 'kingly', 'refuse', 'disprove', 'withholds', 'mourn', 'brutish', 'coffin', 'sayings', 'rightly', 'nobler', 'parchment', 'dip', 'napkins', 'sacred', 'memory', 'mention', 'wills', 'bequeathing', 'legacy', 'wood', 'hearing', 'inflame', 'ershot', 'murtherers', 'compel', 'hearse', 'summer', 'evening', 'nervii', 'rent', 'cursed', 'unkindly', 'knock', 'dearly', 'unkindest', 'vanquish', 'burst', 'muffling', 'treason', 'feel', 'dint', 'gracious', 'vesture', 'wounded', 'marr', 'piteous', 'woeful', 'traitor', 'orator', 'ruffle', 'forgot', 'five', 'arbors', 'planted', 'orchards', 'recreate', 'benches', 'forms', 'afoot', 'thither', 'mood', 'madmen', 'gates', 'notice', 'unluckily', 'wander', 'bang', 'proceed', 'dwelling', 'firebrands', 'seated', 'table', 'sister', 'damn', 'determine', 'legacies', 'unmeritable', 'sent', 'errands', 'fold', 'divided', 'share', 'black', 'sentence', 'divers', 'slanderous', 'loads', 'driven', 'treasure', 'load', 'empty', 'graze', 'appoint', 'provender', 'teach', 'stop', 'corporal', 'taught', 'spirited', 'feeds', 'arts', 'imitations', 'staled', 'property', 'levying', 'alliance', 'combined', 'covert', 'disclosed', 'surest', 'stake', 'millions', 'mischiefs', 'salutation', 'greets', 'officers', 'undone', 'doubted', 'instances', 'described', 'cooling', 'sicken', 'decay', 'useth', 'tricks', 'simple', 'hollow', 'crests', 'deceitful', 'jades', 'trial', 'meant', 'sard', 'arrived', 'gently', 'sober', 'hides', 'wrangle', 'enlarge', 'guard', 'noted', 'pella', 'taking', 'sardians', 'praying', 'slighted', 'case', 'nice', 'comment', 'mart', 'offices', 'undeservers', 'corruption', 'villain', 'foremost', 'supporting', 'robbers', 'contaminate', 'space', 'large', 'grasped', 'dog', 'moon', 'bait', 'hedge', 'older', 'practice', 'abler', 'farther', 'possible', 'choler', 'frighted', 'madman', 'stares', 'proud', 'choleric', 'bouge', 'crouch', 'testy', 'venom', 'spleen', 'split', 'waspish', 'vaunting', 'tempted', 'presume', 'threats', 'sums', 'coin', 'wring', 'peasants', 'indirection', 'grows', 'covetous', 'lock', 'rascal', 'counters', 'thunderbolts', 'dash', 'fool', 'infirmities', 'practise', 'aweary', 'hated', 'braved', 'check', 'observed', 'notebook', 'conn', 'rote', 'naked', 'pluto', 'richer', 'hate', 'sheathe', 'scope', 'dishonor', 'yoked', 'lamb', 'carries', 'anger', 'hasty', 'spark', 'vexeth', 'henceforth', 'overearnest', 'chides', 'grudge', 'followed', 'm', 'vilely', 'cynic', 'rhyme', 'wars', 'jigging', 'companion', 'lodge', 'companies', 'accidental', 'scaped', 'killing', 'insupportable', 'touching', 'loss', 'impatient', 'absence', 'distract', 'attendants', 'absent', 'swallow', 'unkindness', 'thirsty', 'pledge', 'erswell', 'cup', 'necessities', 'bending', 'expedition', 'selfsame', 'tenure', 'addition', 'outlawry', 'agree', 'proscriptions', 'writ', 'meditating', 'losses', 'waste', 'doing', 'lying', 'defense', 'nimbleness', 'force', 'twixt', 'forced', 'affection', 'grudged', 'contribution', 'fuller', 'refresh', 'encouraged', 'utmost', 'brim', 'ripe', 'increaseth', 'height', 'decline', 'omitted', 'voyage', 'shallows', 'miseries', 'afloat', 'current', 'ventures', 'deep', 'crept', 'obey', 'necessity', 'niggard', 'repose', 'beginning', 'division', 'everyone', 'drowsily', 'erwatch', 'cushions', 'otherwise', 'bethink', 'book', 'sought', 'pocket', 'lordship', 'past', 'song', 'sleepy', 'tune', 'murtherous', 'layest', 'mace', 'wake', 'leaf', 'burns', 'weakness', 'shapes', 'apparition', 'makest', 'vanishest', 'strings', 'criedst', 'hopes', 'hills', 'upper', 'regions', 'proves', 'warn', 'answering', 'tut', 'bosoms', 'places', 'bravery', 'fasten', 'courage', 'exigent', 'parley', 'hole', 'crying', 'posture', 'rob', 'hybla', 'bees', 'honeyless', 'stingless', 'soundless', 'stol', 'n', 'buzzing', 'threat', 'apes', 'kissing', 'feet', 'damned', 'behind', 'strooke', 'neck', 'arguing', 'redder', 'thirty', 'avenged', 'slaughter', 'unless', 'wert', 'couldst', 'peevish', 'worthless', 'masker', 'reveler', 'defiance', 'hurl', 'stomachs', 'blow', 'billow', 'bark', 'storm', 'hazard', 'converse', 'birthday', 'compell', 'liberties', 'epicurus', 'presage', 'former', 'eagles', 'perch', 'gorging', 'feeding', 'consorted', 'steads', 'ravens', 'crows', 'kites', 'downward', 'prey', 'shadows', 'canopy', 'fatal', 'constantly', 'incertain', 'befall', 'determined', 'cowardly', 'arming', 'providence', 'below', 'begun', 'everlasting', 'loud', 'demeanor', 'octavia', 'overthrow', 'turning', 'eagerly', 'lovest', 'mount', 'assured', 'notest', 'ascends', 'breathed', 'compass', 'horsemen', 'lights', 'descends', 'parthia', 'saving', 'whatsoever', 'attempt', 'freeman', 'bowels', 'search', 'cover', 'guide', 'stabs', 'overthrown', 'disconsolate', 'setting', 'rays', 'dews', 'hateful', 'melancholy', 'child', 'conceived', 'birth', 'engender', 'report', 'piercing', 'darts', 'envenomed', 'wreath', 'victory', 'misconstrued', 'garland', 'bidding', 'apace', 'regarded', 'kills', 'whe', 'owe', 'moe', 'thasos', 'funerals', 'discomfort', 'labio', 'flavio', 'fighting', 'bastard', 'foe', 'bravely', 'mayst', 'offers', 'prize', 'kindness', 'wheer', 'remains', 'rock', 'statilius', 'torchlight', 'slaying', 'request', 'meditates', 'vessel', 'list', 'fields', 'seest', 'beat', 'pit', 'tarry', 'office', 'tarrying', 'losing', 'history', 'hangs', 'labor', 'smatch', 'retreat', 'conquerors', 'proved', 'saying', 'entertain', 'latest', 'elements', 'mix', 'ordered', 'honorably']\n",
      "1490\n"
     ]
    }
   ],
   "source": [
    "repeatedwords=[]\n",
    "hapax=[]\n",
    "\n",
    "INFILE=open(\"pg1785.txt\", \"rt\")\n",
    "\n",
    "# skip the header of my particular book\n",
    "for line in INFILE:\n",
    "    if \"1599\" in line:\n",
    "        break\n",
    "\n",
    "for line in INFILE:\n",
    "    #line=line.rstrip()\n",
    "    words=tokenize(line)\n",
    "    tally(words)\n",
    "\n",
    "INFILE.close()    \n",
    "print(hapax)\n",
    "print(len(hapax))"
   ]
  },
  {
   "cell_type": "code",
   "execution_count": null,
   "metadata": {},
   "outputs": [],
   "source": []
  }
 ],
 "metadata": {
  "kernelspec": {
   "display_name": "Python 3",
   "language": "python",
   "name": "python3"
  },
  "language_info": {
   "codemirror_mode": {
    "name": "ipython",
    "version": 3
   },
   "file_extension": ".py",
   "mimetype": "text/x-python",
   "name": "python",
   "nbconvert_exporter": "python",
   "pygments_lexer": "ipython3",
   "version": "3.8.5"
  }
 },
 "nbformat": 4,
 "nbformat_minor": 4
}
