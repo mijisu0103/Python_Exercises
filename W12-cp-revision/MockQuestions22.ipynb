{
 "cells": [
  {
   "cell_type": "markdown",
   "metadata": {},
   "source": [
    "**NOTE**: The exam questions will come in a pdf file. This will be released together with the a Jupyter Notebook answerbook, in which you will have to fill in your answers. Submissions not using the answerbook will not be marked. The answerbook will contain test code to help you check your answers, as per examples below. The text of the questions will not appear in the answerbook, though for convenience some code may be already copied into the answerbook for you.\n",
    "\n",
    "The questions below are not meant to be representative of the level of difficulty or of the exact tests, and are only simple examples given to clarify what form of answer is expected and what are the rough limitations of the tests provided."
   ]
  },
  {
   "cell_type": "markdown",
   "metadata": {},
   "source": [
    "### Mock question 1"
   ]
  },
  {
   "cell_type": "markdown",
   "metadata": {},
   "source": [
    "*The text of the question will be in the pdf file*\n",
    "\n",
    "--------------------------------\n",
    "\n",
    "Consider the following list:\n",
    "\n",
    "```message=['blah', '/start/', 'this', 'is', 'boring', '/stop/', 'whatever']```\n",
    "\n",
    "Write a comprehension to list all the strings appearing  between the words ```'/start/'``` and ```'/stop/'```, with the two extremes excluded. Your code should be independent of the precised contents of ```message```, provided it contains ```'/start/'``` and ```'/stop/'``` (that are guaranteed to appear only once, in the right order).\n"
   ]
  },
  {
   "cell_type": "code",
   "execution_count": 1,
   "metadata": {},
   "outputs": [],
   "source": [
    "# this code may already appear in the answerbook, ready for use\n",
    "message=['blah', '/start/', 'this', 'is', 'boring', '/stop/', 'whatever']"
   ]
  },
  {
   "cell_type": "code",
   "execution_count": 2,
   "metadata": {},
   "outputs": [
    {
     "data": {
      "text/plain": [
       "['this', 'is', 'boring']"
      ]
     },
     "execution_count": 2,
     "metadata": {},
     "output_type": "execute_result"
    }
   ],
   "source": [
    "# Q1_ans - Your answer here - do not delete this comment\n",
    "[message[i] for i in \n",
    " range(message.index('/start/')+1,message.index('/stop/'))]"
   ]
  },
  {
   "cell_type": "markdown",
   "metadata": {},
   "source": [
    "### Mock question 2"
   ]
  },
  {
   "cell_type": "markdown",
   "metadata": {},
   "source": [
    "Code a function called ```compute``` that takes three parameters. In order, these are a number ```a```, a string ```op```, and a number ```b```. Assume argument ```op``` is one of ```\"+\"```, ```\"-\"```, ```\"*\"```, ```\"/\"```; the function should return the result of the corresponding operation performed on ```a``` and ```b```. So for instance ```compute(1, '+', 2)``` should return ```3```.\n"
   ]
  },
  {
   "cell_type": "code",
   "execution_count": 3,
   "metadata": {},
   "outputs": [],
   "source": [
    "# Q2ans - Your answer here - do not delete this comment\n",
    "def compute(a, op, b):\n",
    "    if op=='+':\n",
    "        return a + b\n",
    "    elif op=='-':\n",
    "        return a-b\n",
    "    elif op=='*':\n",
    "        return a+b\n",
    "    else:\n",
    "        return a/b"
   ]
  },
  {
   "cell_type": "code",
   "execution_count": 4,
   "metadata": {},
   "outputs": [
    {
     "name": "stdout",
     "output_type": "stream",
     "text": [
      "OK\n"
     ]
    }
   ],
   "source": [
    "# Your function should pass these tests\n",
    "_=compute(a=1.0, op='+', b=1.0)\n",
    "assert (type(_)==type(0)) or (type(_)==type(0.0)), \"Function should return an integer or float\"\n",
    "print(\"OK\")"
   ]
  },
  {
   "cell_type": "markdown",
   "metadata": {},
   "source": [
    "### Mock question 3"
   ]
  },
  {
   "cell_type": "markdown",
   "metadata": {},
   "source": [
    "Code a class called ```EggTimer``` that models a simple egg timer. The constructor of the class should take as a parameter the length of time you want to boil the egg for (given in seconds); this should be stored in attribute ```_duration```. Code a method ```time``` that prints the message ```'Start boiling the egg'```, waits for the correct number of seconds, and then prints the message ```'Your egg is cooked'```. Hint: use the function ```sleep``` provided by the ```time``` module of the standard library to wait for the required number of seconds. "
   ]
  },
  {
   "cell_type": "code",
   "execution_count": 5,
   "metadata": {},
   "outputs": [],
   "source": [
    "# Q3ans - Your answer here - do not delete this comment\n",
    "from time import sleep\n",
    "\n",
    "class EggTimer:\n",
    "    def __init__(self, time):\n",
    "        self._duration=time\n",
    "    \n",
    "    def time(self):\n",
    "        print('Start boiling the egg')\n",
    "        sleep(self._duration)\n",
    "        print('Your egg is cooked')"
   ]
  },
  {
   "cell_type": "code",
   "execution_count": 6,
   "metadata": {},
   "outputs": [
    {
     "name": "stdout",
     "output_type": "stream",
     "text": [
      "OK\n"
     ]
    }
   ],
   "source": [
    "# Your code should pass this test when run on a fresh kernel\n",
    "import inspect\n",
    "assert \"EggTimer\" in globals(), \"EggTimer not defined\"\n",
    "assert inspect.isclass(EggTimer), \"EggTimer is not a class\"\n",
    "_et=EggTimer(5)\n",
    "_err=False # this was missing in the first version I uploaded\n",
    "if 'time' not in dir(_et):\n",
    "        print (\"Method time not defined\")\n",
    "        _err=True\n",
    "if '_duration' not in dir(_et):\n",
    "        print (\"Attribute _duration not defined by constructor\")\n",
    "        _err=True\n",
    "if not _err: print(\"OK\") "
   ]
  }
 ],
 "metadata": {
  "kernelspec": {
   "display_name": "kernel",
   "language": "python",
   "name": "jisu"
  },
  "language_info": {
   "codemirror_mode": {
    "name": "ipython",
    "version": 3
   },
   "file_extension": ".py",
   "mimetype": "text/x-python",
   "name": "python",
   "nbconvert_exporter": "python",
   "pygments_lexer": "ipython3",
   "version": "3.12.7"
  }
 },
 "nbformat": 4,
 "nbformat_minor": 4
}
