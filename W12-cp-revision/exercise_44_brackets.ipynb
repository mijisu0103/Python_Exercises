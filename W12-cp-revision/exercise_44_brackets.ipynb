{
 "cells": [
  {
   "cell_type": "markdown",
   "id": "b9d208b0",
   "metadata": {},
   "source": [
    "## Torbjoern Lager's exercise 44\n",
    "\n",
    "Generate a string with N opening brackets (\"\\[\") and N closing brackets (\"\\]\"), in some arbitrary order.\n",
    "Determine whether the generated string is balanced; that is, whether it consists entirely of pairs of\n",
    "opening/closing brackets (in that order), none of which mis-nest."
   ]
  },
  {
   "cell_type": "code",
   "execution_count": 4,
   "id": "1b0a9041",
   "metadata": {},
   "outputs": [
    {
     "name": "stdout",
     "output_type": "stream",
     "text": [
      "]]]]\n"
     ]
    }
   ],
   "source": [
    "from random import choice\n",
    "\n",
    "def generate_string(n):\n",
    "    \"\"\" generate a  string with 2N brackets chosen at random. Note\n",
    "    this  is a bit more general than the assignment \"\"\"\n",
    "    bkts=\"\"\n",
    "    for i in range(0, 2*n):\n",
    "        bkts=bkts+choice([\"[\", \"]\"])\n",
    "    return bkts\n",
    "\n",
    "\n",
    "\n",
    "print(generate_string(2))\n"
   ]
  },
  {
   "cell_type": "markdown",
   "id": "9ffc1334",
   "metadata": {},
   "source": [
    "First way: \n",
    "* Assign +1 to an open bracket, -1 to a closed bracket\n",
    "* Add up brackets one by one, check that we never go negative and that final sum is 0\n"
   ]
  },
  {
   "cell_type": "code",
   "execution_count": 8,
   "id": "fcf2f336",
   "metadata": {},
   "outputs": [],
   "source": [
    "def check_brackets(bkts):\n",
    "    count=0\n",
    "    for b in bkts:\n",
    "        if b==\"[\":\n",
    "            count+=1\n",
    "        else:\n",
    "            count-=1\n",
    "        if count<0:\n",
    "            return False\n",
    "    if count==0:\n",
    "        return True\n",
    "    else:\n",
    "        return False\n",
    "    "
   ]
  },
  {
   "cell_type": "code",
   "execution_count": 11,
   "id": "f88b4e27",
   "metadata": {},
   "outputs": [
    {
     "name": "stdout",
     "output_type": "stream",
     "text": [
      "[] is  balanced\n",
      "[][] is  balanced\n",
      "][]][[ is not balanced\n",
      "]]]][]]] is not balanced\n",
      "[[[[[]]]]] is  balanced\n",
      "]][]]][]]]][ is not balanced\n",
      "]][]]]]]][[][[ is not balanced\n",
      "[][][][][]][][]] is not balanced\n",
      "[]][[[[[][[]][[[][ is not balanced\n"
     ]
    }
   ],
   "source": [
    "for i in range(1,10):\n",
    "    teststring=generate_string(i)\n",
    "    balanced=check_brackets(teststring)\n",
    "    print (f\"{teststring} is {'not' if not balanced else ''} balanced\")"
   ]
  },
  {
   "cell_type": "markdown",
   "id": "e3be367c",
   "metadata": {},
   "source": [
    "Second way:\n",
    "* keep a stack of brackets\n",
    "* if we find an open bracket, add it to the stack\n",
    "* if we find a closed bracket, we check that the top of the stack is an open bracket and then we remove that"
   ]
  },
  {
   "cell_type": "code",
   "execution_count": 5,
   "id": "c14c9e76",
   "metadata": {},
   "outputs": [],
   "source": [
    "def check_w_stack(brackets):\n",
    "    stack=[]\n",
    "    for b in brackets:\n",
    "        if b=='[':\n",
    "            stack.append(b)\n",
    "        else: # b is ']'\n",
    "            try:\n",
    "                lastbracket=stack.pop()\n",
    "                assert lastbracket=='[', \"something went badly wrong!\"\n",
    "            except IndexError:\n",
    "                return False\n",
    "    return len(stack)==0\n",
    "            "
   ]
  },
  {
   "cell_type": "code",
   "execution_count": 6,
   "id": "0b8e851f",
   "metadata": {},
   "outputs": [
    {
     "name": "stdout",
     "output_type": "stream",
     "text": [
      "[] is  balanced\n",
      "]]][ is not balanced\n",
      "]][[][ is not balanced\n",
      "][[[[][[ is not balanced\n",
      "[[[[[]][]] is not balanced\n",
      "[][][[]][]]] is not balanced\n",
      "[[][[][[[][[][ is not balanced\n",
      "]][[]][]]]][[][] is not balanced\n",
      "]]][]][[]][[[]][[[ is not balanced\n"
     ]
    }
   ],
   "source": [
    "for i in range(1,10):\n",
    "    teststring=generate_string(i)\n",
    "    balanced=check_w_stack(teststring)\n",
    "    print (f\"{teststring} is {'not' if not balanced else ''} balanced\")"
   ]
  },
  {
   "cell_type": "markdown",
   "id": "6ce7a53f",
   "metadata": {},
   "source": [
    "What if we have a string with round and square brackets?"
   ]
  },
  {
   "cell_type": "code",
   "execution_count": 25,
   "id": "341e855e",
   "metadata": {},
   "outputs": [],
   "source": [
    "def check_round_square(brackets):\n",
    "    stack=[]\n",
    "    for b in brackets:\n",
    "        if b=='['or b =='(':\n",
    "            stack.append(b)\n",
    "        else: # b is ']' or ')'\n",
    "            try:\n",
    "                lastbracket=stack.pop()\n",
    "                if ((lastbracket=='(' and b==']') or\n",
    "                    (lastbracket=='[' and b==')')):\n",
    "                    return False\n",
    "            except IndexError:\n",
    "                return False\n",
    "    return len(stack)==0\n",
    "  "
   ]
  },
  {
   "cell_type": "code",
   "execution_count": 29,
   "id": "b902a7f1",
   "metadata": {},
   "outputs": [
    {
     "data": {
      "text/plain": [
       "False"
      ]
     },
     "execution_count": 29,
     "metadata": {},
     "output_type": "execute_result"
    }
   ],
   "source": [
    "check_round_square('[(])')"
   ]
  },
  {
   "cell_type": "markdown",
   "id": "e2641ecc",
   "metadata": {},
   "source": [
    "Can we parse something like '\\[(3+3)/2,(3,4)\\]' or\n",
    "```\n",
    "[['dog', 'cat'], ('wolf', 'tiger')]\n",
    "```\n",
    "can't we? (the compiler can)"
   ]
  },
  {
   "cell_type": "code",
   "execution_count": 3,
   "id": "3a43d3a8",
   "metadata": {},
   "outputs": [],
   "source": [
    "def validate_brackets(expression):\n",
    "    \"\"\" validates round and square brackets for an arbitrary\n",
    "    expression \"\"\"\n",
    "    stack=[]\n",
    "    for b in expression: # b can now be anything\n",
    "        if b=='['or b =='(':\n",
    "            stack.append(b)\n",
    "        elif b == ']' or b==')':\n",
    "            try:\n",
    "                lastbracket=stack.pop()\n",
    "                if ((lastbracket=='(' and b==']') or\n",
    "                    (lastbracket=='[' and b==')')):\n",
    "                    return False\n",
    "            except IndexError:\n",
    "                return False\n",
    "    return len(stack)==0\n",
    " "
   ]
  },
  {
   "cell_type": "code",
   "execution_count": 34,
   "id": "02956baf",
   "metadata": {},
   "outputs": [
    {
     "data": {
      "text/plain": [
       "True"
      ]
     },
     "execution_count": 34,
     "metadata": {},
     "output_type": "execute_result"
    }
   ],
   "source": [
    "validate_brackets(\"[['dog', 'cat'], ('wolf', 'tiger')]\")"
   ]
  }
 ],
 "metadata": {
  "kernelspec": {
   "display_name": "Python 3 (ipykernel)",
   "language": "python",
   "name": "python3"
  },
  "language_info": {
   "codemirror_mode": {
    "name": "ipython",
    "version": 3
   },
   "file_extension": ".py",
   "mimetype": "text/x-python",
   "name": "python",
   "nbconvert_exporter": "python",
   "pygments_lexer": "ipython3",
   "version": "3.8.10"
  }
 },
 "nbformat": 4,
 "nbformat_minor": 5
}
