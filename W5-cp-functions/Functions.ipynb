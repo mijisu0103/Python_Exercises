{
 "cells": [
  {
   "cell_type": "markdown",
   "metadata": {},
   "source": [
    "# Functions"
   ]
  },
  {
   "cell_type": "code",
   "execution_count": null,
   "metadata": {
    "scrolled": true
   },
   "outputs": [],
   "source": [
    "# run this cell to play back an audio file, type Esc-o to hide player\n",
    "from IPython.display import Audio\n",
    "Audio(\"media/fn-intro.ogg\")"
   ]
  },
  {
   "cell_type": "markdown",
   "metadata": {},
   "source": [
    "The scripts we have seen so fare were mainly very short. However, when programs become longer (above, say, 100 lines of code) it becomes important to split them into separate units. This improves readability, makes it easier to debug code and also allows reusing code within the same script or across different applications.\n",
    "\n",
    "Functions are a standard mechanism provided by most programming languages to support modularisation of the code.\n",
    "\n",
    "Functions normally take parameters passed as *arguments*, and may accomplish some action or return some value. We have already seen several examples:"
   ]
  },
  {
   "cell_type": "code",
   "execution_count": null,
   "metadata": {},
   "outputs": [],
   "source": [
    "# sum is a function that takes a list of numbers as a parameter and returns the sum of its elements \n",
    "total=sum([1, 3, 5, 7])\n",
    "print(total)\n",
    "\n",
    "# print takes a string and does something with it (it prints it). It does not\n",
    "# return anything. Functions without return values are sometimes called procedures.\n",
    "print(\"Hello\")"
   ]
  },
  {
   "cell_type": "markdown",
   "metadata": {},
   "source": [
    "We can define functions to perform tasks in our code. The way to do that is using the ```def``` statement:\n",
    "\n",
    "```\n",
    "def functionName (argument1, argument2, ...):\n",
    "    \"\"\" Optional description (DocString) \"\"\"\n",
    "    ...BLOCK of code...\n",
    "    return DATA # optional return statement\n",
    "```\n",
    "    "
   ]
  },
  {
   "cell_type": "code",
   "execution_count": null,
   "metadata": {},
   "outputs": [],
   "source": [
    "# run this cell to show a video, use slider to resize it, type Esc-o to hide it\n",
    "from IPython.display import Video; from ipywidgets import interactive, IntSlider\n",
    "def _play(resize): display(Video(filename=\"media/fn-defining.webm\",data=\"\",width=resize))\n",
    "interactive(_play, resize=IntSlider(min=150, max=900, step=50, value=600, continuous_update=False, readout=False))"
   ]
  },
  {
   "cell_type": "markdown",
   "metadata": {},
   "source": [
    "Example:"
   ]
  },
  {
   "cell_type": "code",
   "execution_count": null,
   "metadata": {},
   "outputs": [],
   "source": [
    "def mulTable(n):\n",
    "    \"\"\" Print the multiplication table for number n \"\"\"\n",
    "    for i in range(1,11):\n",
    "        print (n*i, \"\\t\", end='')  # \\t is a tab\n",
    "    print() # add newline at the end\n",
    "\n",
    "# program control starts from here\n",
    "mulTable(3) # we \"call\" the function\n",
    "mulTable(6) # ...and again"
   ]
  },
  {
   "cell_type": "markdown",
   "metadata": {},
   "source": [
    "The above function does not return any value. We can modify it so that it returns the multiplication table instead of printing it:"
   ]
  },
  {
   "cell_type": "code",
   "execution_count": null,
   "metadata": {},
   "outputs": [],
   "source": [
    "def mulTable(n):\n",
    "    \"\"\" Compute the multiplication table for number n and return it as a list \"\"\"\n",
    "    ll=[n*i for i in range(1,11)]\n",
    "    return ll\n",
    "\n",
    "# program control starts from here\n",
    "l1=mulTable(3)\n",
    "l2=mulTable(6)\n",
    "# sum the two lists above element by element\n",
    "s=[x+y for (x,y) in zip (l1,l2)]\n",
    "print(\"The sum of the two tables for 3 and 6 is\")\n",
    "print(s)\n",
    "print(\"Reassuringly, this is the same as the multiplication table for number 9:\")\n",
    "print(mulTable(9))"
   ]
  },
  {
   "cell_type": "markdown",
   "metadata": {},
   "source": [
    "Note that when the interpreter reaches the ```def``` statement it defines the function, but does not run it. Control starts from the first line of code outside a ```def``` statement. Note that we have to define a function before we can use it, so we could not put the definition below the rest of the code.\n",
    "\n",
    "Also note that the docstring comment has a special function:"
   ]
  },
  {
   "cell_type": "code",
   "execution_count": null,
   "metadata": {},
   "outputs": [],
   "source": [
    "help(mulTable)"
   ]
  },
  {
   "cell_type": "code",
   "execution_count": null,
   "metadata": {},
   "outputs": [],
   "source": [
    "# run this cell to show a video, use slider to resize it, type Esc-o to hide it\n",
    "from IPython.display import Video; from ipywidgets import interactive, IntSlider\n",
    "def _play(resize): display(Video(filename=\"media/fn-multable.webm\",data=\"\",width=resize))\n",
    "interactive(_play, resize=IntSlider(min=150, max=900, step=50, value=600, continuous_update=False, readout=False))"
   ]
  },
  {
   "cell_type": "markdown",
   "metadata": {},
   "source": [
    "Algorithms are of course much, much older than computers. A good example is the [Euclidean Algorithm](https://en.wikipedia.org/wiki/Euclidean_algorithm) for finding the Greatest Common Divisor (GCD) of two numbers, that dates back to 300BC. It is based on the fact that if a number divides other two numbers, it also divides their difference (this is obvious: if, say, 3 divides both A and B, then A is this many times 3, B is that many times 3 - and the difference is also a certain number of times 3). So we can take the smaller number away from the larger without changing the GCD; this leaves us with smaller numbers. If we continue until the numbers eventually become equal, what we are left with is their GCD. Euclid would certainly have loved to see the code for this:"
   ]
  },
  {
   "cell_type": "code",
   "execution_count": null,
   "metadata": {},
   "outputs": [],
   "source": [
    "def euclidean(n, m):\n",
    "    \"\"\" Euclidean algorithm, returns the GCD of n and m \"\"\"\n",
    "    while (n!=m):\n",
    "        if n>m:\n",
    "            n=n-m\n",
    "        else:\n",
    "            m=m-n\n",
    "    return m\n",
    "\n",
    "# using the function:\n",
    "print(euclidean(5,7)) # that's 1, 5 and 7 are prime\n",
    "a=70 # 2*5*7\n",
    "b=42 # 2*3*7\n",
    "print(euclidean(a, b)) # 14 = 2*7\n",
    "print(a) # unchanged\n",
    "print(b) # unchanged"
   ]
  },
  {
   "cell_type": "code",
   "execution_count": null,
   "metadata": {},
   "outputs": [],
   "source": [
    "# run this cell to show a video, use slider to resize it, type Esc-o to hide it\n",
    "from IPython.display import Video; from ipywidgets import interactive, IntSlider\n",
    "def _play(resize): display(Video(filename=\"media/fn-euclidean.webm\",data=\"\",width=resize))\n",
    "interactive(_play, resize=IntSlider(min=150, max=900, step=50, value=600, continuous_update=False, readout=False))"
   ]
  },
  {
   "cell_type": "markdown",
   "metadata": {},
   "source": [
    "A function can take more than one parameter, and return any type of result:"
   ]
  },
  {
   "cell_type": "code",
   "execution_count": null,
   "metadata": {},
   "outputs": [],
   "source": [
    "def isMultiple(a,b):\n",
    "    \"\"\" Returns True if a is a multible of b, False otherwise \"\"\"\n",
    "    if a%b==0: # a%b: modulo operator (ie remainder of the division)\n",
    "        return True\n",
    "    else:\n",
    "        return False\n",
    "    \n",
    "# let's test it\n",
    "print(isMultiple (9,3))\n",
    "print(isMultiple (10,6))\n",
    "if isMultiple(5,2):\n",
    "    print(\"This is underwhelming...\")"
   ]
  },
  {
   "cell_type": "code",
   "execution_count": null,
   "metadata": {},
   "outputs": [],
   "source": [
    "# run this cell to show a video, use slider to resize it, type Esc-o to hide it\n",
    "from IPython.display import Video; from ipywidgets import interactive, IntSlider\n",
    "def _play(resize): display(Video(filename=\"media/fn-ismultiple.webm\",data=\"\",width=resize))\n",
    "interactive(_play, resize=IntSlider(min=150, max=900, step=50, value=600, continuous_update=False, readout=False))"
   ]
  },
  {
   "cell_type": "markdown",
   "metadata": {},
   "source": [
    "In particular, we can use tuples or lists to have a function return more than one value. For instance, once we have the GCD of two numbers, we can obtain their [Least Common Multiple](https://en.wikipedia.org/wiki/Least_common_multiple) by taking the product of the two numbers and dividing it by the GCD:"
   ]
  },
  {
   "cell_type": "code",
   "execution_count": null,
   "metadata": {},
   "outputs": [],
   "source": [
    "def gcd_and_lcm(n, m):\n",
    "    \"\"\" Euclidean algorithm, returns a tuple with the GCD and the LCM of n and m \"\"\"\n",
    "    (mm,nn)=(m,n) # make a copy of the original values - we'll need that later\n",
    "    while (n!=m):\n",
    "        if n>m:\n",
    "            n=n-m\n",
    "        else:\n",
    "            m=m-n\n",
    "    gcd=m # just so we remember, m is now the GCD\n",
    "    # We can now use the GCD to compute the Least Common Multiple:\n",
    "    # we multiply the two original numbers and divide the result by the GCD\n",
    "    lcm= mm * nn // gcd # integer division\n",
    "    return (gcd, lcm) # return a tuple\n",
    "\n",
    "# Note the idiomatic way of \"unpacking\" the tuple\n",
    "g,l=gcd_and_lcm(10,14) # 10 = 2*5, # 14=2*7\n",
    "print(\"GCD: \", g) # 2\n",
    "print(\"LCM: \", l) # 2*5*7"
   ]
  },
  {
   "cell_type": "code",
   "execution_count": null,
   "metadata": {},
   "outputs": [],
   "source": [
    "# run this cell to show a video, use slider to resize it, type Esc-o to hide it\n",
    "from IPython.display import Video; from ipywidgets import interactive, IntSlider\n",
    "def _play(resize): display(Video(filename=\"media/fn-returntuple.webm\",data=\"\",width=resize))\n",
    "interactive(_play, resize=IntSlider(min=150, max=900, step=50, value=600, continuous_update=False, readout=False))"
   ]
  },
  {
   "cell_type": "markdown",
   "metadata": {},
   "source": [
    "### Function scope"
   ]
  },
  {
   "cell_type": "markdown",
   "metadata": {},
   "source": [
    "Be aware that a function defines a *scope* for variables. In general, this means that variables that you use within a function are local to that function. You cannot access a variable that's local to a function from outside the function."
   ]
  },
  {
   "cell_type": "code",
   "execution_count": null,
   "metadata": {},
   "outputs": [],
   "source": [
    "# y=1 # try uncommenting this\n",
    "\n",
    "def test (x):\n",
    "    y=2*x\n",
    "    return y\n",
    "    \n",
    "print(test(3))\n",
    "print(y)"
   ]
  },
  {
   "cell_type": "markdown",
   "metadata": {},
   "source": [
    "Any variable of the same name outside the function will be overshadowed by new variables defined within the function and will not be affected by operations done within the function. "
   ]
  },
  {
   "cell_type": "code",
   "execution_count": null,
   "metadata": {},
   "outputs": [],
   "source": [
    "# run this cell to show a video, use slider to resize it, type Esc-o to hide it\n",
    "from IPython.display import Video; from ipywidgets import interactive, IntSlider\n",
    "def _play(resize): display(Video(filename=\"media/fn-scope.webm\",data=\"\",width=resize))\n",
    "interactive(_play, resize=IntSlider(min=150, max=900, step=50, value=600, continuous_update=False, readout=False))"
   ]
  },
  {
   "cell_type": "markdown",
   "metadata": {},
   "source": [
    "Modifying a global variable within a function is potentially messy, so Python generally prevents you from doing it. If you do want to access a global variable within a function *for writing*, you have to declare it explicitly using the ```global``` keyword:"
   ]
  },
  {
   "cell_type": "code",
   "execution_count": null,
   "metadata": {},
   "outputs": [],
   "source": [
    "PI= 3.14 # meant to be a constant\n",
    "people=0 # a global counter\n",
    "\n",
    "def circ (r):\n",
    "    return 2*PI*r # this works (it's a read)\n",
    "\n",
    "def greet():\n",
    "    # global people\n",
    "    print(\"Hello!\")\n",
    "    people+=1 # this doesn't, need to declare as global\n",
    "    \n",
    "print(circ(1))\n",
    "greet()\n",
    "greet()\n",
    "print(people)"
   ]
  },
  {
   "cell_type": "code",
   "execution_count": null,
   "metadata": {},
   "outputs": [],
   "source": [
    "# run this cell to show a video, use slider to resize it, type Esc-o to hide it\n",
    "from IPython.display import Video; from ipywidgets import interactive, IntSlider\n",
    "def _play(resize): display(Video(filename=\"media/fn-globalvar.webm\",data=\"\",width=resize))\n",
    "interactive(_play, resize=IntSlider(min=150, max=900, step=50, value=600, continuous_update=False, readout=False))"
   ]
  },
  {
   "cell_type": "markdown",
   "metadata": {},
   "source": [
    "### One last example:"
   ]
  },
  {
   "cell_type": "markdown",
   "metadata": {},
   "source": [
    "As a last example, let us package the code below, that reads a protein from a FASTA file, into a function: (guided exercise)"
   ]
  },
  {
   "cell_type": "code",
   "execution_count": null,
   "metadata": {},
   "outputs": [],
   "source": [
    "FASTA=open(\"P04637.fas\", \"r\")\n",
    "header=FASTA.readline()\n",
    "protein=\"\" # build up the sequence here\n",
    "for ll in FASTA:\n",
    "    protein+=ll.rstrip() # remove trailing '\\n'\n",
    "FASTA.close()\n",
    "# Done. This is just pretty-printing\n",
    "(code, name)= header.split('|')\n",
    "print(\"Accession code:\")\n",
    "print(code)\n",
    "print(\"\\nName:\")\n",
    "print(name)\n",
    "print(\"Protein:\")\n",
    "print(protein)\n",
    "print(\"\\nNumber of residues:\")\n",
    "print(len(protein))\n"
   ]
  },
  {
   "cell_type": "code",
   "execution_count": null,
   "metadata": {},
   "outputs": [],
   "source": [
    "# run this cell to show a video, use slider to resize it, type Esc-o to hide it\n",
    "from IPython.display import Video; from ipywidgets import interactive, IntSlider\n",
    "def _play(resize): display(Video(filename=\"media/fn-readfasta.webm\",data=\"\",width=resize))\n",
    "interactive(_play, resize=IntSlider(min=150, max=900, step=50, value=600, continuous_update=False, readout=False))"
   ]
  },
  {
   "cell_type": "markdown",
   "metadata": {},
   "source": [
    "**UPDATE:** Since version 3.6 dictionary keys are stored in insertion order, so you may in fact want to pay some attention to the order in which you list them"
   ]
  },
  {
   "cell_type": "markdown",
   "metadata": {},
   "source": [
    "**(C) 2014,2020 Fabrizio Smeraldi** ([f.smeraldi@qmul.ac.uk](mailto:f.smeraldi@qmul.ac.uk) - [web](http://www.eecs.qmul.ac.uk/~fabri/)), all rights reserved. In: \"Computer Programming\", School of Electronic Engineering and Computer Science, Queen Mary University of London."
   ]
  }
 ],
 "metadata": {
  "kernelspec": {
   "display_name": "Python 3 (ipykernel)",
   "language": "python",
   "name": "python3"
  },
  "language_info": {
   "codemirror_mode": {
    "name": "ipython",
    "version": 3
   },
   "file_extension": ".py",
   "mimetype": "text/x-python",
   "name": "python",
   "nbconvert_exporter": "python",
   "pygments_lexer": "ipython3",
   "version": "3.10.12"
  }
 },
 "nbformat": 4,
 "nbformat_minor": 1
}
