{
 "cells": [
  {
   "cell_type": "code",
   "execution_count": 2,
   "metadata": {},
   "outputs": [
    {
     "name": "stdout",
     "output_type": "stream",
     "text": [
      "give me a number 10\n",
      "The double is  20\n"
     ]
    }
   ],
   "source": [
    "def twice(x):\n",
    "    return 2*x\n",
    "\n",
    "y = input(\"give me a number \")\n",
    "y = int(y)\n",
    "z=twice(y)\n",
    "\n",
    "print(\"The double is \", z)\n"
   ]
  },
  {
   "cell_type": "code",
   "execution_count": 4,
   "metadata": {},
   "outputs": [
    {
     "name": "stdout",
     "output_type": "stream",
     "text": [
      "give me a number 3\n",
      "The double is  6\n"
     ]
    }
   ],
   "source": [
    "def twice(x):\n",
    "    x=input (\"give me a number \")\n",
    "    x=int(x)\n",
    "    print(\"The double is \", 2*x)\n",
    "    return\n",
    "\n",
    "twice(1)"
   ]
  },
  {
   "cell_type": "markdown",
   "metadata": {},
   "source": [
    "### Maximum of two"
   ]
  },
  {
   "cell_type": "markdown",
   "metadata": {},
   "source": [
    "Define a function ```max_of_two()``` that takes two numbers as arguments and returns the largest of them. Use the if-then-else construct available in Python. (It is true that Python has the max() function built in, but writing it yourself is nevertheless a good exercise.)\n",
    "\n",
    "(Credits:  [Thorbjoern Lager](https://www.gu.se/english/about_the_university/staff/?languageId=100001&userId=xlagto))"
   ]
  },
  {
   "cell_type": "code",
   "execution_count": 2,
   "metadata": {},
   "outputs": [],
   "source": [
    "def max_of_two(x,y):\n",
    "    if x>y:\n",
    "        return x\n",
    "    else:\n",
    "        return y"
   ]
  },
  {
   "cell_type": "markdown",
   "metadata": {},
   "source": [
    "### Maximum of three"
   ]
  },
  {
   "cell_type": "markdown",
   "metadata": {},
   "source": [
    "Define a function ```max_of_three()``` that takes three numbers as arguments and returns the largest of them. Use if-then-else.\n",
    "\n",
    "(Credits:  [Thorbjoern Lager](https://www.gu.se/english/about_the_university/staff/?languageId=100001&userId=xlagto))"
   ]
  },
  {
   "cell_type": "code",
   "execution_count": 3,
   "metadata": {},
   "outputs": [
    {
     "name": "stdout",
     "output_type": "stream",
     "text": [
      "3\n"
     ]
    }
   ],
   "source": [
    "def max_of_three(x,y,z):\n",
    "    if x>y:\n",
    "        if x>z:\n",
    "            return x\n",
    "        else:\n",
    "            return z\n",
    "    else:\n",
    "        if y>z:\n",
    "            return y\n",
    "        else:\n",
    "            return z\n",
    "        \n",
    "print(max_of_three(1,2,3))"
   ]
  },
  {
   "cell_type": "markdown",
   "metadata": {},
   "source": [
    "### Maximum of many"
   ]
  },
  {
   "cell_type": "markdown",
   "metadata": {},
   "source": [
    "Define a function ```listMax()``` that takes a list as argument and returns a tuple with the maximum and its index in the list.\n",
    "\n",
    "(Credits:  [Thorbjoern Lager](https://www.gu.se/english/about_the_university/staff/?languageId=100001&userId=xlagto), adapted)"
   ]
  },
  {
   "cell_type": "code",
   "execution_count": 4,
   "metadata": {},
   "outputs": [
    {
     "name": "stdout",
     "output_type": "stream",
     "text": [
      "(3, 2)\n"
     ]
    }
   ],
   "source": [
    "def listMax(lst):\n",
    "    max_value=lst[0]\n",
    "    max_idx=0\n",
    "    idx=1\n",
    "    for x in lst[1:]:\n",
    "        if x>max_value:\n",
    "            max_value=x\n",
    "            max_idx=idx\n",
    "        idx+=1\n",
    "    return(max_value, max_idx)\n",
    "print(listMax([0,1,3]))\n"
   ]
  },
  {
   "cell_type": "markdown",
   "metadata": {},
   "source": [
    "### Roll your own"
   ]
  },
  {
   "cell_type": "markdown",
   "metadata": {},
   "source": [
    "Take the three functions you coded above and put them in a file called ```mymax.py``` to make a module. Then try writing a simple program that starts with \n",
    "```\n",
    "import mymax\n",
    "```\n",
    "and calls the functions you wrote as ```mymax.max_of_three()```, etc"
   ]
  },
  {
   "cell_type": "code",
   "execution_count": 6,
   "metadata": {},
   "outputs": [
    {
     "name": "stdout",
     "output_type": "stream",
     "text": [
      "9\n",
      "7\n",
      "(5, 0)\n"
     ]
    }
   ],
   "source": [
    "import mymax\n",
    "\n",
    "print(mymax.max_of_two(7,9))\n",
    "print(mymax.max_of_three(4,7,2))\n",
    "print(mymax.listMax([5,2,4]))"
   ]
  },
  {
   "cell_type": "markdown",
   "metadata": {},
   "source": [
    "### Histogram"
   ]
  },
  {
   "cell_type": "markdown",
   "metadata": {},
   "source": [
    "Define a procedure ```histogram()``` that takes a list of integers and prints a histogram to the screen. For example, ```histogram([4, 9, 7])``` should print the following:\n",
    "```\n",
    "****\n",
    "*********\n",
    "*******\n",
    "```\n",
    "Note: a *procedure* is a function that does not return any value, it simply *does* something.\n",
    "\n",
    "(Credits:  [Thorbjoern Lager](https://www.gu.se/english/about_the_university/staff/?languageId=100001&userId=xlagto))"
   ]
  },
  {
   "cell_type": "code",
   "execution_count": 7,
   "metadata": {},
   "outputs": [
    {
     "name": "stdout",
     "output_type": "stream",
     "text": [
      "****\n",
      "*********\n",
      "*******\n"
     ]
    }
   ],
   "source": [
    "def histogram(lst):\n",
    "    for i in lst:\n",
    "        print('*' * i)\n",
    "\n",
    "histogram([4, 9, 7])\n"
   ]
  },
  {
   "cell_type": "markdown",
   "metadata": {},
   "source": [
    "### Got it all backwards"
   ]
  },
  {
   "cell_type": "markdown",
   "metadata": {},
   "source": [
    "Define a function ```reverse()``` that takes a string as an argument and returns it reversed. For instance,   ```reverse(\"I am testing\")``` should return the string \"gnitset ma I\".\n",
    "\n",
    "\n",
    "(Credits:  [Thorbjoern Lager](https://www.gu.se/english/about_the_university/staff/?languageId=100001&userId=xlagto))"
   ]
  },
  {
   "cell_type": "code",
   "execution_count": 8,
   "metadata": {},
   "outputs": [
    {
     "data": {
      "text/plain": [
       "'gnitset ma I'"
      ]
     },
     "execution_count": 8,
     "metadata": {},
     "output_type": "execute_result"
    }
   ],
   "source": [
    "def reverse(str):\n",
    "    return str[::-1]\n",
    "\n",
    "reversed_str = reverse(\"I am testing\")\n",
    "reversed_str\n",
    "    \n"
   ]
  },
  {
   "cell_type": "markdown",
   "metadata": {},
   "source": [
    "### Palindromes"
   ]
  },
  {
   "cell_type": "markdown",
   "metadata": {},
   "source": [
    "A palindrome is a word or sentence that is unaltered when read backwards.\n",
    "\n",
    "Write a palindrome recognizer ```isPalindrome()``` that accepts phrase palindromes such as \"Go hang a salami I'm a lasagna hog.\", \"Was it a rat I saw?\", \"Step on no pets\", \"Sit on a potato pan, Otis\", \"Lisa Bonet ate no basil\", \"Satan, oscillate my metallic sonatas\", \"I roamed under it as a tired nude Maori\", \"Rise to vote sir\", or the exclamation \"Dammit, I'm mad!\". Note that punctuation, capitalization, and spacing are usually ignored. \n",
    "\n",
    "Your function should return ```True``` for palindromes and ```False``` otherwise. Your function should use the ```reverse()``` function you just programmed to do its job.\n",
    "\n",
    "(Credits:  [Thorbjoern Lager](https://www.gu.se/english/about_the_university/staff/?languageId=100001&userId=xlagto))"
   ]
  },
  {
   "cell_type": "code",
   "execution_count": 9,
   "metadata": {},
   "outputs": [
    {
     "data": {
      "text/plain": [
       "{'Palindrome is a word or sentence that is unaltered when read backwards': False,\n",
       " \"Go hang a salami I'm a lasagna hog.\": True,\n",
       " 'Was it a rat I saw?': True,\n",
       " 'Step on no pets': True,\n",
       " 'Sit on a potato pan, Otis': True,\n",
       " 'Lisa Bonet ate no basil': True,\n",
       " 'Satan, oscillate my metallic sonatas': True,\n",
       " 'I roamed under it as a tired nude Maori': True,\n",
       " 'Rise to vote sir': True,\n",
       " \"Dammit, I'm mad!\": True}"
      ]
     },
     "execution_count": 10,
     "metadata": {},
     "output_type": "execute_result"
    }
   ],
   "source": [
    "def isPalindrome(p):\n",
    "    p = ''.join(char.lower() for char in p if char.isalnum())\n",
    "    return p == reverse(p)\n",
    "\n",
    "test = [\n",
    "    \"Palindrome is a word or sentence that is unaltered when read backwards\", \"Go hang a salami I'm a lasagna hog.\", \"Was it a rat I saw?\", \"Step on no pets\", \"Sit on a potato pan, Otis\", \"Lisa Bonet ate no basil\", \"Satan, oscillate my metallic sonatas\", \"I roamed under it as a tired nude Maori\", \"Rise to vote sir\", \"Dammit, I'm mad!\"\n",
    "]\n",
    "\n",
    "result = {p: isPalindrome(p) for p in test}\n",
    "result"
   ]
  },
  {
   "cell_type": "markdown",
   "metadata": {},
   "source": [
    "### Default arguments and calling styles"
   ]
  },
  {
   "cell_type": "markdown",
   "metadata": {},
   "source": [
    "Try calling the procedure below in the following ways, that are all legal, and see what happens:\n",
    "```\n",
    "aProc(\"eggs\", \"bacon\") # specify both arguments (the usual way)\n",
    "aProc() # use default values\n",
    "aProc(\"goo\") # only specifies first argument\n",
    "aProc(second=\"more spam\") # only specifies second argument\n",
    "pet=[\"Humpty\", \"Dumpty\"]\n",
    "aProc(*pet) # both arguments as a list \n",
    "meg_and_mog={'first': 'Meg', 'second': 'Mog'} \n",
    "aProc(**meg_and_mog) # both arguments as a dictionary\n",
    "```"
   ]
  },
  {
   "cell_type": "code",
   "execution_count": 11,
   "metadata": {},
   "outputs": [
    {
     "name": "stdout",
     "output_type": "stream",
     "text": [
      "1. aProc('eggs', 'bacon'):\n",
      "The first argument is:  eggs\n",
      "And the second is    :  bacon\n",
      "---------------------------------\n",
      "\n",
      "2. aProc():\n",
      "The first argument is:  spam\n",
      "And the second is    :  ham\n",
      "---------------------------------\n",
      "\n",
      "3. aProc('goo'):\n",
      "The first argument is:  goo\n",
      "And the second is    :  ham\n",
      "---------------------------------\n",
      "\n",
      "4. aProc(second='more spam'):\n",
      "The first argument is:  spam\n",
      "And the second is    :  more spam\n",
      "---------------------------------\n",
      "\n",
      "5. aProc(*pet):\n",
      "The first argument is:  Humpty\n",
      "And the second is    :  Dumpty\n",
      "---------------------------------\n",
      "\n",
      "6. aProc(**meg_and_mog):\n",
      "The first argument is:  Meg\n",
      "And the second is    :  Mog\n",
      "---------------------------------\n"
     ]
    }
   ],
   "source": [
    "def aProc(first=\"spam\", second=\"ham\"):\n",
    "    \"\"\" This procedure has default values for its arguments \"\"\"\n",
    "    print(\"The first argument is: \", first)\n",
    "    print(\"And the second is    : \", second)\n",
    "    print(\"---------------------------------\")\n",
    "\n",
    "# Specify both arguments (the usual way)\n",
    "print(\"1. aProc('eggs', 'bacon'):\")\n",
    "aProc(\"eggs\", \"bacon\")\n",
    "\n",
    "# Use default values\n",
    "print(\"\\n2. aProc():\")\n",
    "aProc()\n",
    "\n",
    "# Only specifies first argument\n",
    "print(\"\\n3. aProc('goo'):\")\n",
    "aProc(\"goo\")\n",
    "\n",
    "# Only specifies second argument\n",
    "print(\"\\n4. aProc(second='more spam'):\")\n",
    "aProc(second=\"more spam\")\n",
    "\n",
    "# Both arguments as a list\n",
    "pet = [\"Humpty\", \"Dumpty\"]\n",
    "print(\"\\n5. aProc(*pet):\")\n",
    "aProc(*pet)\n",
    "\n",
    "# Both arguments as a dictionary\n",
    "meg_and_mog = {'first': 'Meg', 'second': 'Mog'}\n",
    "print(\"\\n6. aProc(**meg_and_mog):\")\n",
    "aProc(**meg_and_mog)\n"
   ]
  },
  {
   "cell_type": "markdown",
   "metadata": {},
   "source": [
    "### Lingo"
   ]
  },
  {
   "cell_type": "markdown",
   "metadata": {},
   "source": [
    "\n",
    "\n",
    "In a game of Lingo, there is a hidden word, five characters long. The object of the game is to find this word by guessing, and in return receive two kinds of clues: 1) the characters that are fully correct, with respect to identity as well as to position, and 2) the characters that are indeed present in the word, but which are placed in the wrong position. Write a program with which one can play Lingo. Use square brackets to mark characters correct in the sense of 1), and ordinary parentheses to mark characters correct in the sense of 2). For the sake of the exercise, your program should pass each character in the user input to a function that \"packages\" it in brackets (or not). In turn, this should use two separate functions to check if either 1) or 2) apply.\n",
    "\n",
    "Assuming, for example, that the program conceals the word \"tiger\", you should be able to interact with it in the following way:\n",
    "\n",
    "```\n",
    "snake\n",
    "Clue: snak(e)\n",
    "least\n",
    "Clue: l(e)as(t)\n",
    "times\n",
    "Clue: [t][i]m[e]s\n",
    "tiger\n",
    "Clue: [t][i][g][e][r]\n",
    "```\n",
    "\n",
    "(Credits:  [Thorbjoern Lager](https://www.gu.se/english/about_the_university/staff/?languageId=100001&userId=xlagto))"
   ]
  },
  {
   "cell_type": "code",
   "execution_count": 1,
   "metadata": {},
   "outputs": [
    {
     "name": "stdout",
     "output_type": "stream",
     "text": [
      "Clue: a\n",
      "Clue: b\n",
      "Clue: c\n",
      "Clue: d\n",
      "Clue: (e)\n",
      "Clue: f\n",
      "Clue: (g)\n",
      "Clue: h\n",
      "Clue: (i)\n",
      "Clue: j\n",
      "Clue: k\n",
      "Clue: [t][i][g][e][r]\n",
      "You got it!\n"
     ]
    }
   ],
   "source": [
    "SECRET=\"tiger\"\n",
    "\n",
    "def exact(i,c):\n",
    "    \"\"\" character O position O \"\"\"\n",
    "    return SECRET[i]==c\n",
    "\n",
    "def appears(c):\n",
    "    \"\"\" character O position X \"\"\"\n",
    "    return c in SECRET\n",
    "\n",
    "def feedback(guess):\n",
    "    matches=0\n",
    "    print(\"Clue: \", end=\"\") \n",
    "\n",
    "    for (i,c) in enumerate(guess):\n",
    "        if exact(i,c):\n",
    "            print( \"[\"+c+\"]\", end=\"\")\n",
    "            matches+=1\n",
    "        elif appears(c):\n",
    "            print( \"(\"+c+\")\", end=\"\") \n",
    "        else:\n",
    "            print(c, end=\"\")\n",
    "    print()\n",
    "    return matches\n",
    "\n",
    "matches=0\n",
    "while matches!=len(SECRET):\n",
    "    guess=input(\">> \")\n",
    "    matches=feedback(guess)\n",
    "    \n",
    "print(\"You got it!\")"
   ]
  },
  {
   "cell_type": "markdown",
   "metadata": {},
   "source": [
    "### Born on the Fourth of July"
   ]
  },
  {
   "cell_type": "markdown",
   "metadata": {},
   "source": [
    "You now have all the tools and the knowledge to do fairly complex stuff. Let's try some data analysis -\n",
    "read [this story](https://fivethirtyeight.com/features/some-people-are-too-superstitious-to-have-a-baby-on-friday-the-13th/) online, and download the underlying data - it's available in a [github repository](https://github.com/fivethirtyeight/data/tree/master/births). Read the ```README.md``` file carefully and make a note of file format, then click on ```US_births_2000-2014_SSA.csv```, click on *Raw* and use the *File>Save Page As* (or equivalent) function of your browser to save the file in  your working directory (if this does not work for you, you can download the entire repository from GitHub as you would one of our lectures, and then copy the file over).\n",
    "\n",
    "* Write a function that reads all the data into a list of *(year, month, date_of_month, day_of_week, births)* tuples. Remember to convert all data to type ```int```\n",
    "* Warm-up exercise: for the sake of the title, compute the average number of people born yearly on July 4th (hint: that should be around 8815.27). If you are curious, do the same for people born on Friday 13th, and people born on a Friday that's not the 13th.\n",
    "\n",
    "Data aggregation is a basic stepstone of data analysis. We can aggregate birth data with respect to each of the first  four columns to find how many people were born in each year, on each day of the week or on each date of the month.\n",
    "\n",
    "* Write a function called ```aggregate``` that takes as its arguments the data and the number of a \"key\" column for aggregation. The function should return a dictionary. The keys of the dictionary should be all values of the \"key\" column; the corresponding values should be the total of all births listed against each value of the \"key\" column. So for instance if the \"key\" column is number 3 (*day_of_week*), the dictionary should have keys 1 to 7 and the value for, say, key 1 should be the sum of all births for which *day_of_week* is listed as being 1.\n",
    "\n",
    "Hint: this is somewhat similar to the \"Counting Vowels\" exercise (in both \"Collections\" and \"Files\" lectures), except the key values now are taken from the data table itself, and increments are given by the number of births. If you get stuck, try hard-coding it for the *day_of_week* column only, move on to the following part, test the two functions together, and then come back to this.\n",
    "\n",
    "* Write a function called ```print_stats``` that takes as its argument an aggregated data dictionary as returned by ```aggregate``` and prints it out as a nice table of key-value pairs, sorted by key.\n",
    "\n",
    "* Use the above two functions to compute and tabulate the total number of births in each year, on each day of the week, in each month and on each date of the month. Can you spot any interesting trends?\n",
    "\n",
    "**NOTE:** This is a slightly more complex exercise - you may not have the time to go beyond the warm-up part in class, but we recommend you attempt the rest in your own time. Be prepared for the second part to require some thinking. This exercise is also, like all exploratory data analysis tasks, very open-ended - if you want to do more, you can modify the ```histogram``` function to take a dictionary as its input, and use it to plot the percentage of people born on each day of the week, month or date of the month. You can also try analysing the data in the other birth data file, ```US_births_1994-2003_CDC_NCHS.csv```, that is formatted in the same way, and see if any trends you identified are confirmed in the longer term."
   ]
  },
  {
   "cell_type": "code",
   "execution_count": 3,
   "metadata": {},
   "outputs": [
    {
     "name": "stdout",
     "output_type": "stream",
     "text": [
      "Avg yearly births on July 4th: 8815.266666666666\n",
      "\n",
      "Births by day of week\n",
      "   1: 9316001\n",
      "   2: 10274874\n",
      "   3: 10109130\n",
      "   4: 10045436\n",
      "   5: 9850199\n",
      "   6: 6704495\n",
      "   7: 5886889\n",
      "\n",
      "Births by year\n",
      "2000: 4149598\n",
      "2001: 4110963\n",
      "2002: 4099313\n",
      "2003: 4163060\n",
      "2004: 4186863\n",
      "2005: 4211941\n",
      "2006: 4335154\n",
      "2007: 4380784\n",
      "2008: 4310737\n",
      "2009: 4190991\n",
      "2010: 4055975\n",
      "2011: 4006908\n",
      "2012: 4000868\n",
      "2013: 3973337\n",
      "2014: 4010532\n",
      "\n",
      "Births by month\n",
      "   1: 5072588\n",
      "   2: 4725693\n",
      "   3: 5172961\n",
      "   4: 4960750\n",
      "   5: 5195445\n",
      "   6: 5163360\n",
      "   7: 5450418\n",
      "   8: 5540170\n",
      "   9: 5399592\n",
      "  10: 5302865\n",
      "  11: 5008750\n",
      "  12: 5194432\n",
      "\n",
      "Births by date of month\n",
      "   1: 2003627\n",
      "   2: 2030447\n",
      "   3: 2042441\n",
      "   4: 2004785\n",
      "   5: 2036185\n",
      "   6: 2037729\n",
      "   7: 2063416\n",
      "   8: 2061652\n",
      "   9: 2044600\n",
      "  10: 2066154\n",
      "  11: 2054098\n",
      "  12: 2072483\n",
      "  13: 2000064\n",
      "  14: 2076291\n",
      "  15: 2066999\n",
      "  16: 2058651\n",
      "  17: 2071572\n",
      "  18: 2077673\n",
      "  19: 2065328\n",
      "  20: 2083247\n",
      "  21: 2079198\n",
      "  22: 2051012\n",
      "  23: 2023555\n",
      "  24: 1993203\n",
      "  25: 1972534\n",
      "  26: 2001311\n",
      "  27: 2035483\n",
      "  28: 2051528\n",
      "  29: 1918965\n",
      "  30: 1879925\n",
      "  31: 1162868\n"
     ]
    }
   ],
   "source": [
    "def read_data(fname):\n",
    "    data=[]\n",
    "    with open (fname, \"rt\") as INFILE:\n",
    "        next(INFILE)\n",
    "        for line in INFILE:\n",
    "            entry=[int(x) for x in line.split(',')]\n",
    "            data.append(tuple(entry))\n",
    "    return data\n",
    "\n",
    "def aggregate(data, keycol):\n",
    "    stats={}\n",
    "    for entry in data:\n",
    "        key=entry[keycol]\n",
    "        if key in stats:\n",
    "            stats[key]+=entry[4]\n",
    "        else:\n",
    "            stats[key]= entry[4]\n",
    "    return stats\n",
    "            \n",
    "def print_stats(stats):\n",
    "    sortedkeys=list(stats.keys())\n",
    "    sortedkeys.sort()\n",
    "    for k in sortedkeys:\n",
    "        print (f\"{k:4d}: {stats[k]}\")\n",
    "\n",
    "data=read_data(\"US_births_2000-2014_SSA.csv\")\n",
    "\n",
    "born_july4th=0\n",
    "years=0\n",
    "for entry in data:\n",
    "    if entry[1]==7 and entry[2]==4:\n",
    "        born_july4th+=entry[4] \n",
    "        years+=1 \n",
    "print(f\"Avg yearly births on July 4th: {born_july4th/years}\")\n",
    "\n",
    "print (\"\\nBirths by day of week\")\n",
    "\n",
    "by_day_of_week=aggregate(data, 3)\n",
    "print_stats(by_day_of_week)\n",
    "print (\"\\nBirths by year\")\n",
    "\n",
    "by_year=aggregate(data, 0)\n",
    "print_stats(by_year)\n",
    "print (\"\\nBirths by month\")\n",
    "\n",
    "by_month=aggregate(data, 1)\n",
    "print_stats(by_month)\n",
    "print(\"\\nBirths by date of month\")\n",
    "\n",
    "by_date=aggregate(data, 2)\n",
    "print_stats(by_date)"
   ]
  }
 ],
 "metadata": {
  "kernelspec": {
   "display_name": "Python 3",
   "language": "python",
   "name": "python3"
  },
  "language_info": {
   "codemirror_mode": {
    "name": "ipython",
    "version": 3
   },
   "file_extension": ".py",
   "mimetype": "text/x-python",
   "name": "python",
   "nbconvert_exporter": "python",
   "pygments_lexer": "ipython3",
   "version": "3.12.7"
  }
 },
 "nbformat": 4,
 "nbformat_minor": 1
}
