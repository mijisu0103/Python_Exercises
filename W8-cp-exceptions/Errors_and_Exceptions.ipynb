{
 "cells": [
  {
   "cell_type": "markdown",
   "metadata": {},
   "source": [
    "# Types of errors"
   ]
  },
  {
   "cell_type": "code",
   "execution_count": null,
   "metadata": {},
   "outputs": [],
   "source": [
    "# Run this cell to play back an audio file; type Esc-o to hyde the player\n",
    "from IPython.display import Audio\n",
    "Audio(\"media/exc-intro.mp3\")"
   ]
  },
  {
   "cell_type": "markdown",
   "metadata": {},
   "source": [
    "There are two types of errors: \n",
    "* **syntax errors**: the compiler spots them, you fix them\n",
    "* **runtime errors**: can be handled via the *exception* mechanism\n",
    "* **logical errors** (aka **bugs**): here your program may not even crash, but it misbehaves (eg messes up your data) because of a logical flaw in the code. If I knew how to catch these I would be a rich man, so don't let's talk about them any longer. As I said, two types."
   ]
  },
  {
   "cell_type": "markdown",
   "metadata": {},
   "source": [
    "Syntax errors are the most common type of error you encounter when you start programming, but are easily spotted and fixed (the interpreter helps you a lot):"
   ]
  },
  {
   "cell_type": "code",
   "execution_count": null,
   "metadata": {},
   "outputs": [],
   "source": [
    "print \"Hello world\n",
    "\n",
    "spam=1\n",
    "ham=3"
   ]
  },
  {
   "cell_type": "markdown",
   "metadata": {},
   "source": [
    "Runtime errors are much trickier, as they are conditions that depend on program execution and/or on the data the user may enter:"
   ]
  },
  {
   "cell_type": "code",
   "execution_count": null,
   "metadata": {},
   "outputs": [],
   "source": [
    "gg=input (\"Number of guesses? \")\n",
    "rr=input (\"Number of right answers? \")\n",
    "guesses=float(gg)\n",
    "right=float(rr)\n",
    "ratio=guesses/right\n",
    "print (\"You took \" + str(ratio) + \" guesses for each correct answer\")"
   ]
  },
  {
   "cell_type": "markdown",
   "metadata": {},
   "source": [
    "In the above example, the code is correct and the program normally works; however, errors may arise because of the data (in itself acceptable or otherwise) supplied by the user. These errors trigger *Exceptions*, which (if unhandled) lead to program termination. Notice here that the name of the built-in exception (such as *ZeroDivisonError* or *ValueError*) describes what has happened.\n",
    "\n",
    "Typical among operations that can cause exceptions are input/output operations (especially involving files). One can try to open a file that does not exist, write to a directory without writing permissions, or encounter unexpected input while reading the file. "
   ]
  },
  {
   "cell_type": "code",
   "execution_count": null,
   "metadata": {},
   "outputs": [],
   "source": [
    "# run this cell to show a video, use slider to resize it, type Esc-o to hide it\n",
    "from IPython.display import Video, clear_output; from ipywidgets import interactive, IntSlider\n",
    "def _play(resize): display(Video(filename=\"media/exc-whatswrong.webm\",data=\"\",width=resize))\n",
    "interactive(_play, resize=IntSlider(min=150, max=900, step=50, value=600, continuous_update=False, readout=False))"
   ]
  },
  {
   "cell_type": "markdown",
   "metadata": {},
   "source": [
    "# Exception handling"
   ]
  },
  {
   "cell_type": "markdown",
   "metadata": {},
   "source": [
    "An exception need not be the end of the program: it can be handled with the following construct:\n",
    "\n",
    "```\n",
    "try:\n",
    "    # anything that can cause errors\n",
    "    BLOCK\n",
    "except <EXCEPTION> [as e]: # type of exception and \"as\" clause are optional\n",
    "    BLOCK\n",
    "```\n",
    "\n",
    "Here ```<EXCEPTION>``` stands for the type of exception we want to handle. Technically it is a class, so that the actual exception is (you guessed it) an object of that class; it gets assigned to whatever variable is specified in the optional ```as``` clause, so that you can inspect it in the following ```BLOCK```. This will become clearer with the examples below.\n",
    "\n",
    "For instance, we can modify the previous code as follows:"
   ]
  },
  {
   "cell_type": "code",
   "execution_count": null,
   "metadata": {},
   "outputs": [],
   "source": [
    "try:\n",
    "    gg=input (\"Number of guesses? \")\n",
    "    rr=input (\"Number of right answers? \")\n",
    "    guesses=float(gg)\n",
    "    right=float(rr)\n",
    "    ratio=guesses/right\n",
    "    print (\"You took \" + str(ratio) + \" guesses for each correct answer\")\n",
    "except:\n",
    "    print (\"You loser!\")"
   ]
  },
  {
   "cell_type": "code",
   "execution_count": null,
   "metadata": {},
   "outputs": [],
   "source": [
    "# run this cell to show a video, use slider to resize it, type Esc-o to hide it\n",
    "from IPython.display import Video, clear_output; from ipywidgets import interactive, IntSlider\n",
    "def _play(resize): display(Video(filename=\"media/exc-tryexcept.webm\",data=\"\",width=resize))\n",
    "interactive(_play, resize=IntSlider(min=150, max=900, step=50, value=600, continuous_update=False, readout=False))"
   ]
  },
  {
   "cell_type": "markdown",
   "metadata": {},
   "source": [
    "As we see, the problem here is that all errors trigger the \"You loser\" response, while for instance the program should ask for input again if the user did not enter numbers. It is possible to use more than one ```except``` clause, each restricted to handling only one type of errors:"
   ]
  },
  {
   "cell_type": "code",
   "execution_count": null,
   "metadata": {},
   "outputs": [],
   "source": [
    "while True:\n",
    "    try:\n",
    "        gg=input (\"Number of guesses? \")\n",
    "        rr=input (\"Number of right answers? \")\n",
    "        guesses=float(gg)\n",
    "        right=float(rr)\n",
    "        ratio=guesses/right\n",
    "        print(\"You took \" + str(ratio) + \" guesses for each correct answer\")\n",
    "        break # we are done\n",
    "    except ZeroDivisionError: # handles division by zero\n",
    "        print(\"You loser!\")\n",
    "        break # exit the loop \n",
    "    except ValueError: # handles invalid input\n",
    "        print(\"Please enter numbers\")\n"
   ]
  },
  {
   "cell_type": "markdown",
   "metadata": {},
   "source": [
    "restricting ```except``` clauses in this way is actually a good idea, because a \"wildcard\" ```except``` can mask a true programming error."
   ]
  },
  {
   "cell_type": "code",
   "execution_count": null,
   "metadata": {},
   "outputs": [],
   "source": [
    "# run this cell to show a video, use slider to resize it, type Esc-o to hide it\n",
    "from IPython.display import Video, clear_output; from ipywidgets import interactive, IntSlider\n",
    "def _play(resize): display(Video(filename=\"media/exc-dangers.webm\",data=\"\",width=resize))\n",
    "interactive(_play, resize=IntSlider(min=150, max=900, step=50, value=600, continuous_update=False, readout=False))"
   ]
  },
  {
   "cell_type": "markdown",
   "metadata": {},
   "source": [
    "As said exceptions are actually objects, and carry some information about the error that has occurred. This can be shown to the user by printing the exception, or handled programmatically via the ```args``` attribute of the exception object:"
   ]
  },
  {
   "cell_type": "code",
   "execution_count": null,
   "metadata": {},
   "outputs": [],
   "source": [
    "while True:\n",
    "    try:\n",
    "        gg=input (\"Number of guesses? \")\n",
    "        rr=input (\"Number of right answers? \")\n",
    "        guesses=float(gg)\n",
    "        right=float(rr)\n",
    "        ratio=guesses/right\n",
    "        print (\"You took \" + str(ratio) + \" guesses for each correct answer\")\n",
    "        break # we are done\n",
    "    except ZeroDivisionError: # handles division by zero\n",
    "        print (\"You loser!\")\n",
    "        break\n",
    "    except ValueError as e: # stores the exception object in variable e\n",
    "        print (\"This error has occurred:\")\n",
    "        print (e) # prints the contents of e.args\n"
   ]
  },
  {
   "cell_type": "markdown",
   "metadata": {},
   "source": [
    "# Exception propagation"
   ]
  },
  {
   "cell_type": "markdown",
   "metadata": {},
   "source": [
    "In general, an exception will happen in some function or method that has been called by some other function or method, which in turn may have been called by something else. An exception will propagate up the call stack until it is handled. This means that an exception happening in a function can be handled by the caller. If nothing handles it, the exception causes the program to terminate. Consider the following examples:"
   ]
  },
  {
   "cell_type": "code",
   "execution_count": null,
   "metadata": {},
   "outputs": [],
   "source": [
    "def average(l):\n",
    "    return sum(l)/ len(l)\n",
    "\n",
    "\n",
    "print (average([3, 4, 5]))\n",
    "print (average([]))"
   ]
  },
  {
   "cell_type": "markdown",
   "metadata": {},
   "source": [
    "As we can see, an exception happens in function ```average```, called by the main program, if the list passed to ```average``` is empty. This exception can be handled inside the function as follows:"
   ]
  },
  {
   "cell_type": "code",
   "execution_count": null,
   "metadata": {},
   "outputs": [],
   "source": [
    "def average(l):\n",
    "    try:\n",
    "        avg= sum(l)/ len(l)\n",
    "        return avg\n",
    "    except ZeroDivisionError:\n",
    "        return None # a predefined placeholder for no value\n",
    "\n",
    "\n",
    "print (average([3, 4, 5]))\n",
    "print (average([]))"
   ]
  },
  {
   "cell_type": "markdown",
   "metadata": {},
   "source": [
    "or it can be handled by the caller:"
   ]
  },
  {
   "cell_type": "code",
   "execution_count": null,
   "metadata": {},
   "outputs": [],
   "source": [
    "def average(l):\n",
    "    return sum(l)/ len(l)\n",
    "\n",
    "try:\n",
    "    print (average([3, 4, 5]))\n",
    "    print (average([]))\n",
    "except ZeroDivisionError:\n",
    "    print (\"eeek!\")"
   ]
  },
  {
   "cell_type": "markdown",
   "metadata": {},
   "source": [
    "the exception still happens in the function, but it is propagated back to the caller and handled there."
   ]
  },
  {
   "cell_type": "code",
   "execution_count": null,
   "metadata": {},
   "outputs": [],
   "source": [
    "# run this cell to show a video, use slider to resize it, type Esc-o to hide it\n",
    "from IPython.display import Video, clear_output; from ipywidgets import interactive, IntSlider\n",
    "def _play(resize): display(Video(filename=\"media/exc-propagation.webm\",data=\"\",width=resize))\n",
    "interactive(_play, resize=IntSlider(min=150, max=900, step=50, value=600, continuous_update=False, readout=False))"
   ]
  },
  {
   "cell_type": "markdown",
   "metadata": {},
   "source": [
    "# Rolling your own"
   ]
  },
  {
   "cell_type": "markdown",
   "metadata": {},
   "source": [
    "Especially when programming a library, it may be useful to declare your own exceptions. You can do that by extending the ```Exception``` class, as shown below. In a Bioinformatics library, for instance, a ```SeqError``` may be defined to flag errors occurring while dealing with a DNA sequence (in this case, a search for a character that is not a nucleotide). When the condition occurs, your code can use the keyword ```raise``` to throw a ```SeqError``` than then behaves like any other exception, and can be handled in a ```try``` - ```except``` clause."
   ]
  },
  {
   "cell_type": "code",
   "execution_count": null,
   "metadata": {},
   "outputs": [],
   "source": [
    "class SeqError(Exception): # inherits from Exception\n",
    "    \"\"\" A user-defined exception \"\"\"\n",
    "    def __init__(self, message, value):\n",
    "        super().__init__() # call constructor of superclass\n",
    "        self.message=message\n",
    "        self.value=value\n",
    "        \n",
    "    def __str__(self):\n",
    "        return f\"Value {self.value} caused an error: {self.message}\"\n",
    "    \n",
    "\n",
    "class DNASequence:\n",
    "    def __init__(self, seq):\n",
    "        self.seq=seq\n",
    "        \n",
    "    def countNucleotide(self,n):\n",
    "        \"\"\" returns the number of times a nucleotide n appears in the sequence;\n",
    "        raises a SeqError if n is not a nucleotide \"\"\"\n",
    "        if n not in \"ACTG\":\n",
    "            # This triggers the exception\n",
    "            raise SeqError(\"Not a Nucleotide\", n)\n",
    "        return self.seq.count(n)\n",
    "\n",
    "myseq=DNASequence(\"AATCGATG\")\n",
    "# try adding a try - except SeqError: clause around these instructions\n",
    "myseq.countNucleotide('A')\n",
    "myseq.countNucleotide('Q')        "
   ]
  },
  {
   "cell_type": "markdown",
   "metadata": {},
   "source": [
    "Note that the ```Exception``` class provides some boilerplate code, so that if you simply define ```SeqError``` as follows:\n",
    "```\n",
    "class SeqError(Exception):\n",
    "    pass\n",
    "```\n",
    "you get almost the same behaviour (don't take my word for it, try it!). The point here is to show you that these are *bona-fide* objects and as such they are entirely customisable.\n",
    "\n",
    "In fact, exception handling can even make use of the inheritance relations among exception classes, as described in the video below."
   ]
  },
  {
   "cell_type": "code",
   "execution_count": null,
   "metadata": {},
   "outputs": [],
   "source": [
    "# run this cell to show a video, use slider to resize it, type Esc-o to hide it\n",
    "from IPython.display import Video, clear_output; from ipywidgets import interactive, IntSlider\n",
    "def _play(resize): display(Video(filename=\"media/exc-inheritance.webm\",data=\"\",width=resize))\n",
    "interactive(_play, resize=IntSlider(min=150, max=900, step=50, value=600, continuous_update=False, readout=False))"
   ]
  },
  {
   "cell_type": "markdown",
   "metadata": {},
   "source": [
    "All [built-in exceptions](https://docs.python.org/3/library/exceptions.html) are listed in the Python documentation; each of them can obviously be extended, should you ever wish to tweak them."
   ]
  },
  {
   "cell_type": "markdown",
   "metadata": {},
   "source": [
    "**(C) 2014,2020 Fabrizio Smeraldi** ([f.smeraldi@qmul.ac.uk](mailto:f.smeraldi@qmul.ac.uk) - [web](http://www.eecs.qmul.ac.uk/~fabri/)), all rights reserved. In: \"Coding for Scientists\", School of Biological and Chemical Sciences, Queen Mary University of London."
   ]
  }
 ],
 "metadata": {
  "kernelspec": {
   "display_name": "Python 3",
   "language": "python",
   "name": "python3"
  },
  "language_info": {
   "codemirror_mode": {
    "name": "ipython",
    "version": 3
   },
   "file_extension": ".py",
   "mimetype": "text/x-python",
   "name": "python",
   "nbconvert_exporter": "python",
   "pygments_lexer": "ipython3",
   "version": "3.8.10"
  }
 },
 "nbformat": 4,
 "nbformat_minor": 1
}
