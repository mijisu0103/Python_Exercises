{
 "cells": [
  {
   "cell_type": "markdown",
   "metadata": {},
   "source": [
    "### You can handle that"
   ]
  },
  {
   "cell_type": "markdown",
   "metadata": {},
   "source": [
    "...even if you don't quite know precisely what that function does. Call function ```havoc()``` a few times and see what happens. Then try to handle the resulting exception in the calling code (not inside the function) by printing it. Your can even write code that keeps calling ```havoc()``` until it runs without errors (I wouldn't recommend that as a general debugging strategy, though!)"
   ]
  },
  {
   "cell_type": "code",
   "execution_count": 1,
   "metadata": {},
   "outputs": [],
   "source": [
    "import random\n",
    "\n",
    "def havoc():\n",
    "    # agreed, this code is a bit pointless - just imagine this function does something really\n",
    "    # complicated and raises an error when it fails. You want to handle the error without \n",
    "    # touching the function\n",
    "    outcome=random.choice(('success', 'fail'))\n",
    "    if outcome=='success':\n",
    "        print (\"All good\")\n",
    "    else:\n",
    "        raise Exception(\"Aaaaargh!\")"
   ]
  },
  {
   "cell_type": "code",
   "execution_count": 2,
   "metadata": {},
   "outputs": [
    {
     "name": "stdout",
     "output_type": "stream",
     "text": [
      "All good\n"
     ]
    }
   ],
   "source": [
    "havoc()"
   ]
  },
  {
   "cell_type": "markdown",
   "metadata": {},
   "source": [
    "### Quadratic equation"
   ]
  },
  {
   "cell_type": "markdown",
   "metadata": {},
   "source": [
    "Consider the function ```quad()``` below that computes the roots of a quadratic equation. Write a program that asks the user for the parameters, calls the function, prints the results and handles all exceptions. In case of error, your program can extract the offending parameters from the ```.params``` attribute of the exception and, for instance, print them (note that since ```a```, ```b```, and ```c``` are not passed to the constructor of ```QuadError``` but stored in an attribute, they do not get printed automatically when the exception object is printed)."
   ]
  },
  {
   "cell_type": "code",
   "execution_count": 3,
   "metadata": {},
   "outputs": [],
   "source": [
    "import math\n",
    "\n",
    "class QuadError( Exception ): \n",
    "    pass # do nothing special\n",
    "\n",
    "def quad(a,b,c):\n",
    "    \"\"\" Solve the quadratic equation ax^2 + bx + c=0 \"\"\"\n",
    "    if a == 0:\n",
    "        ex= QuadError( \"Not Quadratic\" )\n",
    "        ex.params= ( a, b, c ) # may help with debugging\n",
    "        raise ex\n",
    "    if b*b-4*a*c < 0:\n",
    "        ex= QuadError( \"No Real Roots\" )\n",
    "        ex.params= ( a, b, c )\n",
    "        raise ex\n",
    "    x1= (-b+math.sqrt(b*b-4*a*c))/(2*a)\n",
    "    x2= (-b-math.sqrt(b*b-4*a*c))/(2*a)\n",
    "    return (x1,x2)\n"
   ]
  },
  {
   "cell_type": "markdown",
   "metadata": {},
   "source": [
    "### File input/output"
   ]
  },
  {
   "cell_type": "markdown",
   "metadata": {},
   "source": [
    "A typical situation in which exceptions can occur is when handling files. For instance, the file you want to read may not exist, or you may not have write permissions for the directory to which you are trying to write.\n",
    "\n",
    "Take some code you have written to read a text file and change the name of the file to something non-existing. See what happens. Modify the code so that the exception is handled correctly (for instance, by asking the user for a new filename or printing a message and quitting cleanly)."
   ]
  },
  {
   "cell_type": "code",
   "execution_count": 7,
   "metadata": {},
   "outputs": [
    {
     "name": "stdout",
     "output_type": "stream",
     "text": [
      "File name: text.txt, File content:\n",
      "Right file name\n",
      "Error: The file '1.txt' does not exist. Please try again.\n"
     ]
    }
   ],
   "source": [
    "def read_file():\n",
    "    while True:\n",
    "        try:\n",
    "            filename = input(\"Enter the filename to read: \")\n",
    "            with open(filename, 'r') as file:\n",
    "                content = file.read()\n",
    "                print(f\"File name: {filename}, File content:\")\n",
    "                print(content)\n",
    "        except FileNotFoundError:\n",
    "            print(f\"Error: The file '{filename}' does not exist. Please try again.\")\n",
    "            break\n",
    "\n",
    "read_file()"
   ]
  },
  {
   "cell_type": "markdown",
   "metadata": {},
   "source": [
    "### Dictionary lookup"
   ]
  },
  {
   "cell_type": "markdown",
   "metadata": {},
   "source": [
    "Try the following code as is, then try it removing the ```if``` statement. Looking up a key that does not exist will cause an exception. In place of the ```if```, use exception handling to print the goodbye message and quit."
   ]
  },
  {
   "cell_type": "code",
   "execution_count": 11,
   "metadata": {},
   "outputs": [
    {
     "name": "stdout",
     "output_type": "stream",
     "text": [
      "Turing test - keep talking. I'll quit when I no longer understand you\n",
      "you > foo me > bar\n",
      "you > humpty me > dumpty\n",
      "you > ping me > pong\n",
      "you > spam me > ham\n",
      "Bye\n"
     ]
    }
   ],
   "source": [
    "ans={\"foo\": \"bar\", \"humpty\": \"dumpty\", \"ping\": \"pong\", \"spam\": \"ham\"}\n",
    "\n",
    "print (\"Turing test - keep talking. I'll quit when I no longer understand you\")\n",
    "\n",
    "while(True):\n",
    "    try:\n",
    "        user=input(\"you > \")\n",
    "        print(\"you > \" + user + \" \" + \"me > \" + ans[user])\n",
    "    except KeyError:\n",
    "        print(\"Bye\")\n",
    "        break"
   ]
  },
  {
   "cell_type": "markdown",
   "metadata": {},
   "source": [
    "### More information"
   ]
  },
  {
   "cell_type": "markdown",
   "metadata": {},
   "source": [
    "Look up the detailed explanations and examples on the [RealPython](https://realpython.com/python-exceptions/#exceptions-versus-syntax-errors) website. Feel free to copy some of their examples and try them here below.\n"
   ]
  },
  {
   "cell_type": "code",
   "execution_count": 13,
   "metadata": {},
   "outputs": [
    {
     "ename": "RuntimeError",
     "evalue": "Function can only run on Linux systems.",
     "output_type": "error",
     "traceback": [
      "\u001b[0;31m---------------------------------------------------------------------------\u001b[0m",
      "\u001b[0;31mRuntimeError\u001b[0m                              Traceback (most recent call last)",
      "Cell \u001b[0;32mIn[13], line 7\u001b[0m\n\u001b[1;32m      4\u001b[0m         \u001b[38;5;28;01mraise\u001b[39;00m \u001b[38;5;167;01mRuntimeError\u001b[39;00m(\u001b[38;5;124m\"\u001b[39m\u001b[38;5;124mFunction can only run on Linux systems.\u001b[39m\u001b[38;5;124m\"\u001b[39m)\n\u001b[1;32m      5\u001b[0m     \u001b[38;5;28mprint\u001b[39m(\u001b[38;5;124m\"\u001b[39m\u001b[38;5;124mDoing Linux things.\u001b[39m\u001b[38;5;124m\"\u001b[39m)\n\u001b[0;32m----> 7\u001b[0m \u001b[43mlinux_interaction\u001b[49m\u001b[43m(\u001b[49m\u001b[43m)\u001b[49m\n",
      "Cell \u001b[0;32mIn[13], line 4\u001b[0m, in \u001b[0;36mlinux_interaction\u001b[0;34m()\u001b[0m\n\u001b[1;32m      2\u001b[0m \u001b[38;5;28;01mimport\u001b[39;00m \u001b[38;5;21;01msys\u001b[39;00m\n\u001b[1;32m      3\u001b[0m \u001b[38;5;28;01mif\u001b[39;00m \u001b[38;5;124m\"\u001b[39m\u001b[38;5;124mlinux\u001b[39m\u001b[38;5;124m\"\u001b[39m \u001b[38;5;129;01mnot\u001b[39;00m \u001b[38;5;129;01min\u001b[39;00m sys\u001b[38;5;241m.\u001b[39mplatform:\n\u001b[0;32m----> 4\u001b[0m     \u001b[38;5;28;01mraise\u001b[39;00m \u001b[38;5;167;01mRuntimeError\u001b[39;00m(\u001b[38;5;124m\"\u001b[39m\u001b[38;5;124mFunction can only run on Linux systems.\u001b[39m\u001b[38;5;124m\"\u001b[39m)\n\u001b[1;32m      5\u001b[0m \u001b[38;5;28mprint\u001b[39m(\u001b[38;5;124m\"\u001b[39m\u001b[38;5;124mDoing Linux things.\u001b[39m\u001b[38;5;124m\"\u001b[39m)\n",
      "\u001b[0;31mRuntimeError\u001b[0m: Function can only run on Linux systems."
     ]
    }
   ],
   "source": [
    "def linux_interaction():\n",
    "    import sys\n",
    "    if \"linux\" not in sys.platform:\n",
    "        raise RuntimeError(\"Function can only run on Linux systems.\")\n",
    "    print(\"Doing Linux things.\")\n",
    "\n",
    "linux_interaction()"
   ]
  }
 ],
 "metadata": {
  "kernelspec": {
   "display_name": "Python 3",
   "language": "python",
   "name": "python3"
  },
  "language_info": {
   "codemirror_mode": {
    "name": "ipython",
    "version": 3
   },
   "file_extension": ".py",
   "mimetype": "text/x-python",
   "name": "python",
   "nbconvert_exporter": "python",
   "pygments_lexer": "ipython3",
   "version": "3.12.7"
  }
 },
 "nbformat": 4,
 "nbformat_minor": 1
}
