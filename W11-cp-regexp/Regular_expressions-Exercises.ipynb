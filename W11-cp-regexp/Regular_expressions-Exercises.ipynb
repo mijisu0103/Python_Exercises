{
 "cells": [
  {
   "cell_type": "markdown",
   "metadata": {},
   "source": [
    "### Mistery pattern"
   ]
  },
  {
   "cell_type": "markdown",
   "metadata": {},
   "source": [
    "What does the following regular expression match? Try to find out!\n",
    "```\n",
    "r\"([A-Za-z0-9\\.]+)@[A-Za-z0-9\\.]*qmul\\.ac\\.uk\"\n",
    "```"
   ]
  },
  {
   "cell_type": "markdown",
   "metadata": {},
   "source": [
    "When you have got it, try using the ```.search()``` function to return a matching object and  print ```.group(1)``` of the matching object. This corresponds to whatever matches the content of the first (and only) pair of brackets () in the pattern. What is it?"
   ]
  },
  {
   "cell_type": "code",
   "execution_count": 2,
   "metadata": {},
   "outputs": [
    {
     "data": {
      "text/plain": [
       "'ec241009'"
      ]
     },
     "execution_count": 2,
     "metadata": {},
     "output_type": "execute_result"
    }
   ],
   "source": [
    "import re\n",
    "\n",
    "pattern=r\"([A-Za-z0-9\\.]+)@[A-Za-z0-9\\.]*qmul\\.ac\\.uk\"\n",
    "\n",
    "# The mystery pattern corresponds to a QM email account:\n",
    "text=\"Anonymous Student <ec241009@se24.qmul.ac.uk>\"\n",
    "mo=re.search(pattern, text)\n",
    "# brackets () capture the username as a group\n",
    "mo.group(1)"
   ]
  },
  {
   "cell_type": "markdown",
   "metadata": {},
   "source": [
    "### Call me back"
   ]
  },
  {
   "cell_type": "markdown",
   "metadata": {},
   "source": [
    "Write a function ```parseNumber``` that takes a string with a phone number as an argument, and returns a dictionary with the country code, area code (starting with zero) and number as separate strings.\n",
    "So for instance the call\n",
    "```\n",
    "parseNumber(\"+44 (207) 882 5555\")\n",
    "```\n",
    "should return the dictionary\n",
    "```\n",
    "{\n",
    "    \"country\": \"44\",\n",
    "    \"area\": \"0207\",\n",
    "    \"number\": \"8825555\" # remove the spaces\n",
    "}\n",
    "\n",
    "```\n",
    "Use grouping as in the example above; search for \"Grouping\" in the official [tutorial](https://docs.python.org/3/howto/regex.html) for more information. You can stick with this format, or try to cater for a few variants - for instance ```\"(0207) 8825555\"``` might return ```None``` for the country, and the rest as above. \n",
    "Simply return ```None``` if the number cannot be parsed. You may need a combination of regular expressions, string methods and ```if``` statements to get the job done."
   ]
  },
  {
   "cell_type": "code",
   "execution_count": 6,
   "metadata": {},
   "outputs": [
    {
     "name": "stdout",
     "output_type": "stream",
     "text": [
      "{'country': '44', 'area': '0207', 'number': '8825555'}\n"
     ]
    }
   ],
   "source": [
    "import re\n",
    "\n",
    "def parseNumber(num):\n",
    "    num = re.sub(r'\\s', '', num)\n",
    "    # num = num.replace(' ', '')  # either this or the line above\n",
    "    # there are 5 groups in this regexp\n",
    "    mo = re.match(r\"(\\+(\\d+))?(\\((\\d+)\\))?(\\d+)\", num)  # Add r before the string\n",
    "    if mo is None:\n",
    "        return None\n",
    "    # Uncomment the two lines below to print all groups\n",
    "    # for i in range(6):\n",
    "    #     print(f\"Group {i}: {mo.group(i)}\")\n",
    "    data = {\n",
    "        'country': mo.group(2),\n",
    "        'area': mo.group(4),\n",
    "        'number': mo.group(5)\n",
    "    }\n",
    "    # Add 0 to area code if needed\n",
    "    if data['area'] is not None and data['area'][0] != '0':\n",
    "        data['area'] = '0' + data['area']\n",
    "    return data\n",
    "\n",
    "print(parseNumber(\"+44 (207) 882 5555\"))\n",
    "# print(parseNumber(\"(0207) 882 5555\"))\n",
    "# print(parseNumber(\"882 5555\"))\n"
   ]
  },
  {
   "cell_type": "markdown",
   "metadata": {},
   "source": [
    "### Books to scrape"
   ]
  },
  {
   "cell_type": "markdown",
   "metadata": {},
   "source": [
    "The few lines of code below download the html source code of the home page of a simulated [bookstore](http://books.toscrape.com/) meant for web scraping practice. Write code that uses regular expressions to extract the title and price of the books listed on the page, and prints them out as comma-separated values:\n",
    "\n",
    "```\n",
    "A Light in the Attic,£51.77\n",
    "Tipping the Velvet,£53.74\n",
    "...\n",
    "```\n",
    "Hint: have a look at the web page first. Then print the ```html``` variable, and use the search function of your browser (generally CTRL-F) on the notebook to find occurrences of title words or prices in the source code of the page. Is there any regularity you can exploit? "
   ]
  },
  {
   "cell_type": "code",
   "execution_count": 7,
   "metadata": {},
   "outputs": [],
   "source": [
    "# This exercise uses the requests package - when running locally, if it is not\n",
    "# available, try to install it by typing \"pip install requests\" in the terminal. \n",
    "# Anaconda users try \"conda install requests\" instead\n",
    "from requests import get\n",
    "\n",
    "url='http://books.toscrape.com/'\n",
    "response=get(url)\n",
    "# html code as a string\n",
    "html=response.content.decode('utf-8')"
   ]
  },
  {
   "cell_type": "code",
   "execution_count": 9,
   "metadata": {},
   "outputs": [
    {
     "name": "stdout",
     "output_type": "stream",
     "text": [
      "A Light in the Attic, £51.77\n",
      "Tipping the Velvet, £53.74\n",
      "Soumission, £50.10\n",
      "Sharp Objects, £47.82\n",
      "Sapiens: A Brief History of Humankind, £54.23\n",
      "The Requiem Red, £22.65\n",
      "The Dirty Little Secrets of Getting Your Dream Job, £33.34\n",
      "The Coming Woman: A Novel Based on the Life of the Infamous Feminist, Victoria Woodhull, £17.93\n",
      "The Boys in the Boat: Nine Americans and Their Epic Quest for Gold at the 1936 Berlin Olympics, £22.60\n",
      "The Black Maria, £52.15\n",
      "Starving Hearts (Triangular Trade Trilogy, #1), £13.99\n",
      "Shakespeare&#39;s Sonnets, £20.66\n",
      "Set Me Free, £17.46\n",
      "Scott Pilgrim&#39;s Precious Little Life (Scott Pilgrim #1), £52.29\n",
      "Rip it Up and Start Again, £35.02\n",
      "Our Band Could Be Your Life: Scenes from the American Indie Underground, 1981-1991, £57.25\n",
      "Olio, £23.88\n",
      "Mesaerion: The Best Science Fiction Stories 1800-1849, £37.59\n",
      "Libertarianism for Beginners, £51.33\n",
      "It&#39;s Only the Himalayas, £45.17\n"
     ]
    }
   ],
   "source": [
    "# titles follow 'title=' and are between quotes. Note that the quotes are escaped\n",
    "titles=re.findall(r\"title=\\\"(.+)\\\"\", html) # notice the group contents are listed\n",
    "# prices are the decimal numbers following a £ sign\n",
    "prices=re.findall(r\"£\\d+\\.\\d+\", html) # no group here, entire match listed\n",
    "\n",
    "# apart for the encoding of the apostrophe, this seems to work well\n",
    "for title, price in zip(titles, prices):\n",
    "    print (title+\", \"+price)"
   ]
  },
  {
   "cell_type": "markdown",
   "metadata": {},
   "source": [
    "### An interactive tutorial"
   ]
  },
  {
   "cell_type": "markdown",
   "metadata": {},
   "source": [
    "There are a number of interactive tutorials and puzzles on regular expressions online. Try this one:\n",
    "    \n",
    "http://regexone.com/"
   ]
  },
  {
   "cell_type": "markdown",
   "metadata": {},
   "source": [
    "**(C) 2014,2020 Fabrizio Smeraldi** ([f.smeraldi@qmul.ac.uk](mailto:f.smeraldi@qmul.ac.uk) - [web](http://www.eecs.qmul.ac.uk/~fabri/)), all rights reserved. In: \"Computer Programming\", School of Electronic Engineering and Computer Science, Queen Mary University of London."
   ]
  }
 ],
 "metadata": {
  "kernelspec": {
   "display_name": "kernel",
   "language": "python",
   "name": "jisu"
  },
  "language_info": {
   "codemirror_mode": {
    "name": "ipython",
    "version": 3
   },
   "file_extension": ".py",
   "mimetype": "text/x-python",
   "name": "python",
   "nbconvert_exporter": "python",
   "pygments_lexer": "ipython3",
   "version": "3.12.7"
  }
 },
 "nbformat": 4,
 "nbformat_minor": 1
}
