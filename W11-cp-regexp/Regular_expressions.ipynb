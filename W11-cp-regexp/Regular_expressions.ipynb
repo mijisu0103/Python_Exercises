{
 "cells": [
  {
   "cell_type": "code",
   "execution_count": null,
   "metadata": {},
   "outputs": [],
   "source": [
    "# run this cell to play back an audio file, type Esc-o to hide player\n",
    "from IPython.display import Audio\n",
    "Audio(\"media/rgx-intro.mp3\")"
   ]
  },
  {
   "cell_type": "markdown",
   "metadata": {},
   "source": [
    "Regular expressions (or REGEX) are compact ways of summarising a text pattern. The need to handle text patterns is very common indeed: for instance typing\n",
    "```\n",
    "ls *.py\n",
    "```\n",
    "in a Linux shell will list all files that end in ```.py```. The character ```*``` is known as a *wildchar*. The above is known as *glob* syntax, and is not technically a REGEX; rather, regular expressions are major refinement of this concept.\n",
    "\n",
    "Regular expressions help with extracting information from text (eg BLAST output or FASTA files) by locating particular patters. For instance, in a [FASTA](https://en.wikipedia.org/wiki/FASTA_format) file, the accession number may come between a \">\" and a  \"|\": such a pattern can be easily described by a regular expression.\n",
    "```\n",
    ">P04637|P53_HUMAN Cellular tumor antigen p53 - Homo sapiens (Human).\n",
    "```\n",
    "\n",
    "Also, databases such as [PROSITE](http://prosite.expasy.org/) list *patterns* that identify particular families of proteins or domains; as we will see, from a computational point of view, these are really regular expressions in disguise.\n",
    "\n",
    "Regular expression syntax in Python is very similar to PERL syntax, so migrating between the two languages should not be difficult."
   ]
  },
  {
   "cell_type": "markdown",
   "metadata": {},
   "source": [
    "## The ```re``` Module"
   ]
  },
  {
   "cell_type": "markdown",
   "metadata": {},
   "source": [
    "In Python, REGEX support is provided in the ```re``` module. Simple usage is indeed straightforward: "
   ]
  },
  {
   "cell_type": "code",
   "execution_count": null,
   "metadata": {},
   "outputs": [],
   "source": [
    "import re\n",
    "\n",
    "# mo is a \"match object\"\n",
    "mo=re.search(\"hello\", \"Hello world, hello Python!\")\n",
    "print (mo.group())\n",
    "print (mo.span())"
   ]
  },
  {
   "cell_type": "markdown",
   "metadata": {},
   "source": [
    "This is not too different from the ```.index()``` method of a string:\n"
   ]
  },
  {
   "cell_type": "code",
   "execution_count": null,
   "metadata": {},
   "outputs": [],
   "source": [
    "print (\"Hello world, hello Python!\".index(\"hello\"))"
   ]
  },
  {
   "cell_type": "markdown",
   "metadata": {},
   "source": [
    "But it is a lot more flexible:"
   ]
  },
  {
   "cell_type": "code",
   "execution_count": null,
   "metadata": {},
   "outputs": [],
   "source": [
    "re.findall(\"[Hh][ea]llo\", \"Hallo world, hello Python!\")"
   ]
  },
  {
   "cell_type": "markdown",
   "metadata": {},
   "source": [
    "here the square brackets express an alternative within a set of characters.\n",
    "\n",
    "If a match is not found, the search returns None:"
   ]
  },
  {
   "cell_type": "code",
   "execution_count": null,
   "metadata": {},
   "outputs": [],
   "source": [
    "mo=re.search(\"hello\", \"Hi world!\")\n",
    "print (mo)"
   ]
  },
  {
   "cell_type": "code",
   "execution_count": null,
   "metadata": {},
   "outputs": [],
   "source": [
    "# run this cell to show a video, use slider to resize it, type Esc-o to hide it\n",
    "from IPython.display import Video, clear_output; from ipywidgets import interactive, IntSlider\n",
    "def _play(resize): display(Video(filename=\"media/rgx-hello.webm\",data=\"\",width=resize))\n",
    "interactive(_play, resize=IntSlider(min=150, max=900, step=50, value=600, continuous_update=False, readout=False))"
   ]
  },
  {
   "cell_type": "markdown",
   "metadata": {},
   "source": [
    "## Performing matches"
   ]
  },
  {
   "cell_type": "markdown",
   "metadata": {},
   "source": [
    "We have already seen ```.search()```, that finds the first match only, and ```.findall()```. \n",
    "The ```re``` module offers four matching operators:\n",
    "\n",
    "\n",
    "| Function/Method   | Use                                                                          |\n",
    "|-------------------|------------------------------------------------------------------------------|\n",
    "| match()           | Determine if the RE matches at the beginning of the string.                  |\n",
    "| search() \t        | Scan through a string, looking for any location where the RE matches.       |\n",
    "| findall() \t    | Find all substrings where the RE matches, and returns them as a list.        |\n",
    "| finditer() \t    | Find all substrings where the RE matches; returns match objects as an iterator(*).|\n",
    "\n",
    "(*) an iterator works very much like a list in that for instance you can loop over it, but its items are computed on the fly as they are needed, so it is more memory-efficient. \n"
   ]
  },
  {
   "cell_type": "code",
   "execution_count": null,
   "metadata": {},
   "outputs": [],
   "source": [
    "# run this cell to show a video, use slider to resize it, type Esc-o to hide it\n",
    "from IPython.display import Video, clear_output; from ipywidgets import interactive, IntSlider\n",
    "def _play(resize): display(Video(filename=\"media/rgx-operators.webm\",data=\"\",width=resize))\n",
    "interactive(_play, resize=IntSlider(min=150, max=900, step=50, value=600, continuous_update=False, readout=False))"
   ]
  },
  {
   "cell_type": "markdown",
   "metadata": {},
   "source": [
    "## Compiling a pattern"
   ]
  },
  {
   "cell_type": "markdown",
   "metadata": {},
   "source": [
    "For reasons of efficiency, if a pattern is going to be used repeatedly, it is best to compile it. This is done as follows:"
   ]
  },
  {
   "cell_type": "code",
   "execution_count": null,
   "metadata": {},
   "outputs": [],
   "source": [
    "rgx=re.compile(\"[Hh][ea]llo\")\n",
    "rgx.findall(\"Hallo world, hello Python!\")"
   ]
  },
  {
   "cell_type": "markdown",
   "metadata": {},
   "source": [
    "the same search functions listed above are available as methods of the *compiled expression* object ```rgx```."
   ]
  },
  {
   "cell_type": "code",
   "execution_count": null,
   "metadata": {},
   "outputs": [],
   "source": [
    "# run this cell to play back an audio file, type Esc-o to hide player\n",
    "from IPython.display import Audio\n",
    "Audio(\"media/rgx-compiling.mp3\")"
   ]
  },
  {
   "cell_type": "markdown",
   "metadata": {},
   "source": [
    "## Beware of the backslash"
   ]
  },
  {
   "cell_type": "markdown",
   "metadata": {},
   "source": [
    "Regular expressions are a powerful tool, though a bit tedious to learn. Besides matching very complex patterns indeed, other operations that are possible are splitting a string where a pattern matches and substitution. I invite you to have a look at the official [howto](https://docs.python.org/3/howto/regex.html) to get a feeling for what can be done.\n",
    "\n",
    "As you will see, REGEX syntax makes heavy use of backslashes. This is a problem in Python, because a backslash is interpreted as an *escape character*. That is, a combination of a backslash and a standard character is normally translated to a non-printable character (for example a newline), according to this [table](http://www.python-ds.com/python-3-escape-sequences)."
   ]
  },
  {
   "cell_type": "code",
   "execution_count": null,
   "metadata": {},
   "outputs": [],
   "source": [
    "print(\"escape\\nsequence\")"
   ]
  },
  {
   "cell_type": "markdown",
   "metadata": {},
   "source": [
    "The solution is to use the Python \"raw string\" syntax by prepending an \"r\" (for \"raw\") to the string in question. This saves the backslash from being crunched as an escape sequence:"
   ]
  },
  {
   "cell_type": "code",
   "execution_count": null,
   "metadata": {},
   "outputs": [],
   "source": [
    "print(r\"escape\\nsequence\")"
   ]
  },
  {
   "cell_type": "markdown",
   "metadata": {},
   "source": [
    "to be on the safe side, you may want to put an \"r\" before all of the regular expressions you write. Example:"
   ]
  },
  {
   "cell_type": "code",
   "execution_count": null,
   "metadata": {},
   "outputs": [],
   "source": [
    "solomon=\"\"\"\n",
    "    Solomon Grundy,\n",
    "    Born on a Monday,\n",
    "    Christened on Tuesday,\n",
    "    Married on Wednesday,\n",
    "    Took ill on Thursday,\n",
    "    Grew worse on Friday,\n",
    "    Died on Saturday,\n",
    "    Buried on Sunday.\n",
    "    That was the end of,\n",
    "    Solomon Grundy.\"\"\"\n",
    "\n",
    "# \\w+ matches one or more alphanumeric characters\n",
    "rgx=re.compile(r\"\\w+da?y\")\n",
    "rgx.findall(solomon)"
   ]
  },
  {
   "cell_type": "markdown",
   "metadata": {},
   "source": [
    "If you would like more information about your matches, the ```finditer``` method may be a better option, since it returns the individual match objects for you to process."
   ]
  },
  {
   "cell_type": "code",
   "execution_count": null,
   "metadata": {},
   "outputs": [],
   "source": [
    "# you have to loop over an iterator to process its values\n",
    "for mo in rgx.finditer(solomon):\n",
    "    print (mo.group(), mo.span())"
   ]
  },
  {
   "cell_type": "code",
   "execution_count": null,
   "metadata": {},
   "outputs": [],
   "source": [
    "# run this cell to show a video, use slider to resize it, type Esc-o to hide it\n",
    "from IPython.display import Video, clear_output; from ipywidgets import interactive, IntSlider\n",
    "def _play(resize): display(Video(filename=\"media/rgx-quantifiers.webm\",data=\"\",width=resize))\n",
    "interactive(_play, resize=IntSlider(min=150, max=900, step=50, value=600, continuous_update=False, readout=False))"
   ]
  },
  {
   "cell_type": "markdown",
   "metadata": {},
   "source": [
    "## Text substitution"
   ]
  },
  {
   "cell_type": "markdown",
   "metadata": {},
   "source": [
    "There are times when you may want to edit text automatically - for instance, you may want to remove all *http* links from a text you have scraped, remove [stop-words](https://en.wikipedia.org/wiki/Stop_word) from a document in preparation for some natural language processing, re-format telephone numbers or hide credit card numbers. The ```re``` module supports this through the ```re.sub``` function, that you can think of as a powerful programmatic *Find-and-Replace* tool. The documentation is [here](https://docs.python.org/3/library/re.html#re.sub), and usage is straightforward:  "
   ]
  },
  {
   "cell_type": "code",
   "execution_count": null,
   "metadata": {},
   "outputs": [],
   "source": [
    "re.sub(pattern=\"[Hh][ea]llo\", repl=\"Bye\", string=\"Hallo world, hello Python!\")"
   ]
  },
  {
   "cell_type": "markdown",
   "metadata": {},
   "source": [
    "The ```sub``` function is very flexible. You may be a bit disappointed that \"Hallo\" is uppercase, \"hello\" is lowercase, but it seems that we have to choose whether we want an uppercase \"Bye\" or a lowercase \"bye\". Of course we could use two separate expressions, but isn't there a way to match the case in one go? It turns out there is - we can pass a function as the ```repl``` argument, in which case that function is passed the match object and can use it to compute the appropriate replacement. In our case:"
   ]
  },
  {
   "cell_type": "code",
   "execution_count": null,
   "metadata": {},
   "outputs": [],
   "source": [
    "def matching_case_bye(mo):\n",
    "    greeting=mo.group() \n",
    "    if greeting[0]=='H':\n",
    "        return \"Bye\"\n",
    "    else:\n",
    "        return \"bye\""
   ]
  },
  {
   "cell_type": "code",
   "execution_count": null,
   "metadata": {},
   "outputs": [],
   "source": [
    "# matching_case_bye is called once for each match\n",
    "re.sub(pattern=\"[Hh][ea]llo\", repl=matching_case_bye, string=\"Hallo world, hello Python!\")"
   ]
  },
  {
   "cell_type": "markdown",
   "metadata": {},
   "source": [
    "This gives you a lot of flexibility. For instance, you might need to update all hyperlinks in a website to reflect the new structure of the site: just code a REGEX that matches hyperlinks and a function that maps the old URLs to the new URLs (maybe simply using a dictionary), and hey presto."
   ]
  },
  {
   "cell_type": "markdown",
   "metadata": {},
   "source": [
    "## Matching PROSITE patterns\n"
   ]
  },
  {
   "cell_type": "code",
   "execution_count": null,
   "metadata": {},
   "outputs": [],
   "source": [
    "# run this cell to play back an audio file, type Esc-o to hide player\n",
    "from IPython.display import Audio\n",
    "Audio(\"media/rgx-patterns.mp3\")"
   ]
  },
  {
   "cell_type": "markdown",
   "metadata": {},
   "source": [
    "The [Thioredoxin](https://en.wikipedia.org/wiki/Thioredoxin) pattern listed on PROSITE under accession number [PS00194](http://prosite.expasy.org/PS00194) is the following:\n",
    "```\n",
    "[LIVMF]-[LIVMSTA]-x-[LIVMFYC]-[FYWSTHE]-x(2)-[FYWGTN]-C-[GATPLVE]-\n",
    "[PHYWSTA]-C-{I}-x-{A}-x(3)-[LIVMFYWT].\n",
    "```\n",
    "Though the [syntax](https://prosite.expasy.org/prosuser.html#conv_pa) is different, this is really a regular expression, and we can easily translate it to a Python REGEX:\n",
    "```\n",
    "r'[LIVMF][LIVMSTA]\\w[LIVMFYC][FYWSTHE]\\w{2}[FYWGTN]C[GATPLVE][PHYWSTA]C[^I]\\w[^A]\\w{3}[LIVMFYWT]'\n",
    "```\n",
    "where ```\\w``` matches any character, ```\\w{3}``` matches exactly three characters and for example ```[^I]``` will match anything except an ```I```. The following code scans the chicken proteome for matches and prints out the accession number of the proteins that match. \n",
    "\n",
    "NOTE: the chicken proteome can be retrieved from the list of Uniprot reference proteomes for [Eukaryotes](https://ftp.uniprot.org/pub/databases/uniprot/current_release/knowledgebase/reference_proteomes/Eukaryota/);\n",
    "*Gallus gallus* is entry ```U000000539_*.fasta.gz```, where ```*``` stands for the current revision number.\n",
    "Download the file, unzip it and rename it ```CHICK.fasta``` for convenience. I have included here a file named ```CHICK.fasta``` with a more or less outdated revision, I encourage you to fetch the current data; you may also download data for other organisms of your interest (the key to the file names is in the [README](https://ftp.uniprot.org/pub/databases/uniprot/current_release/knowledgebase/reference_proteomes/README) file in the parent directory on the Uniprot server). If you are running as a binder or on the QM JupyterHub instance, you may need to dowload the file locally to your machine and then upload it."
   ]
  },
  {
   "cell_type": "markdown",
   "metadata": {},
   "source": [
    "#### Warning! Real data - handle with care\n",
    "\n",
    "```CHICK.fasta``` contains around 10Mb of data (almost 16,000 proteins, filling about 170K lines of text). This is by no means big data, but it is too large for you to open in an editor. The following code prints the first few lines of it:"
   ]
  },
  {
   "cell_type": "code",
   "execution_count": null,
   "metadata": {},
   "outputs": [],
   "source": [
    "FILE=open(\"CHICK.fasta\", \"rt\")\n",
    "# we could loop over the file, count the lines and break once we reach 12, we choose to\n",
    "# loop over the numbers and fetch a line from the file each time instead\n",
    "for i in range(12):\n",
    "    line=next(FILE) # a file is an iterator; next yields the next item\n",
    "    print(line.rstrip())\n",
    "FILE.close()\n",
    "print(\"...continues...\")"
   ]
  },
  {
   "cell_type": "code",
   "execution_count": null,
   "metadata": {},
   "outputs": [],
   "source": [
    "# run this cell to show a video, use slider to resize it, type Esc-o to hide it\n",
    "from IPython.display import Video, clear_output; from ipywidgets import interactive, IntSlider\n",
    "def _play(resize): display(Video(filename=\"media/rgx-chick.webm\",data=\"\",width=resize))\n",
    "interactive(_play, resize=IntSlider(min=150, max=900, step=50, value=600, continuous_update=False, readout=False))"
   ]
  },
  {
   "cell_type": "code",
   "execution_count": null,
   "metadata": {},
   "outputs": [],
   "source": [
    "\"\"\" Trawl chicken proteome and find all proteins that match\n",
    "PROSITE pattern PS00194 (THIOREDOXIN_1) \"\"\"\n",
    "\n",
    "import re\n",
    "\n",
    "# Compile the regexp\n",
    "PS00194=(r'[LIVMF][LIVMSTA]\\w[LIVMFYC][FYWSTHE]\\w{2}[FYWGTN]'+\n",
    "    r'C[GATPLVE][PHYWSTA]C[^I]\\w[^A]\\w{3}[LIVMFYWT]')\n",
    "rgx=re.compile(PS00194)\n",
    "\n",
    "INFILE=open(\"CHICK.fasta\", \"r\")\n",
    "\n",
    "seq=\"\" # build sequence here\n",
    "header=\"\" # name of protein\n",
    "\n",
    "for line in INFILE:\n",
    "    if line[0]==\">\": # current line is a header\n",
    "        # search protein we just read and print header \n",
    "        # if pattern is found\n",
    "        if (rgx.search(seq)!=None):\n",
    "            print(header)                    \n",
    "        # update header and reset sequence\n",
    "        header=line.rstrip()\n",
    "        seq=\"\"\n",
    "    else:  # this line contains part of the sequence\n",
    "        seq+=line.rstrip() # remove trailing newline\n",
    "\n",
    "# process the last protein\n",
    "if (rgx.search(seq)!=None):\n",
    "    print(header)                    \n",
    "\n",
    "INFILE.close()\n"
   ]
  },
  {
   "cell_type": "code",
   "execution_count": null,
   "metadata": {},
   "outputs": [],
   "source": [
    "# run this cell to show a video, use slider to resize it, type Esc-o to hide it\n",
    "from IPython.display import Video, clear_output; from ipywidgets import interactive, IntSlider\n",
    "def _play(resize): display(Video(filename=\"media/rgx-trawling.webm\",data=\"\",width=resize))\n",
    "interactive(_play, resize=IntSlider(min=150, max=900, step=50, value=600, continuous_update=False, readout=False))"
   ]
  },
  {
   "cell_type": "markdown",
   "metadata": {},
   "source": [
    "**(C) 2014,2020 Fabrizio Smeraldi** ([f.smeraldi@qmul.ac.uk](mailto:f.smeraldi@qmul.ac.uk) - [web](http://www.eecs.qmul.ac.uk/~fabri/)), all rights reserved. In: \"Computer Programming\", School of Electronic Engineering and Computer Science, Queen Mary University of London."
   ]
  }
 ],
 "metadata": {
  "kernelspec": {
   "display_name": "Python 3",
   "language": "python",
   "name": "python3"
  },
  "language_info": {
   "codemirror_mode": {
    "name": "ipython",
    "version": 3
   },
   "file_extension": ".py",
   "mimetype": "text/x-python",
   "name": "python",
   "nbconvert_exporter": "python",
   "pygments_lexer": "ipython3",
   "version": "3.8.10"
  }
 },
 "nbformat": 4,
 "nbformat_minor": 1
}
